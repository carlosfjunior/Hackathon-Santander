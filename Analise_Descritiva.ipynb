{
 "cells": [
  {
   "cell_type": "markdown",
   "metadata": {},
   "source": [
    "# Hackaton Santander"
   ]
  },
  {
   "cell_type": "markdown",
   "metadata": {},
   "source": [
    "## Objetivo\n",
    "### O código a seguir tem como finalidade encontrar caracteristicas que se destaquem no publico alvo afim de definirmos uma persona para o nosso problema"
   ]
  },
  {
   "cell_type": "code",
   "execution_count": 1,
   "metadata": {},
   "outputs": [],
   "source": [
    "import pandas as pd\n",
    "import numpy as np\n",
    "import matplotlib.pyplot as plt\n",
    "import seaborn as sn\n",
    "import scipy.stats as stats"
   ]
  },
  {
   "cell_type": "markdown",
   "metadata": {},
   "source": [
    "## Base de dados"
   ]
  },
  {
   "cell_type": "markdown",
   "metadata": {},
   "source": [
    "Os dados a seguir foram extraidos do IBGE: https://www.ibge.gov.br/estatisticas/sociais/trabalho/27946-divulgacao-semanal-pnadcovid1.html?=&t=downloads\n",
    "Base utilizada foi: PNAD_COVID_062020.xlsx"
   ]
  },
  {
   "cell_type": "code",
   "execution_count": 2,
   "metadata": {},
   "outputs": [],
   "source": [
    "df = pd.read_excel('BASE_PERSONA.xlsx')"
   ]
  },
  {
   "cell_type": "code",
   "execution_count": 3,
   "metadata": {},
   "outputs": [
    {
     "data": {
      "text/plain": [
       "(270, 16)"
      ]
     },
     "execution_count": 3,
     "metadata": {},
     "output_type": "execute_result"
    }
   ],
   "source": [
    "df.shape"
   ]
  },
  {
   "cell_type": "code",
   "execution_count": 4,
   "metadata": {},
   "outputs": [],
   "source": [
    "pd.set_option('display.max_columns', None)"
   ]
  },
  {
   "cell_type": "code",
   "execution_count": 5,
   "metadata": {},
   "outputs": [
    {
     "data": {
      "text/html": [
       "<div>\n",
       "<style scoped>\n",
       "    .dataframe tbody tr th:only-of-type {\n",
       "        vertical-align: middle;\n",
       "    }\n",
       "\n",
       "    .dataframe tbody tr th {\n",
       "        vertical-align: top;\n",
       "    }\n",
       "\n",
       "    .dataframe thead th {\n",
       "        text-align: right;\n",
       "    }\n",
       "</style>\n",
       "<table border=\"1\" class=\"dataframe\">\n",
       "  <thead>\n",
       "    <tr style=\"text-align: right;\">\n",
       "      <th></th>\n",
       "      <th>Situação do domicílio</th>\n",
       "      <th>Tipo de área</th>\n",
       "      <th>Condição no domicílio</th>\n",
       "      <th>Idade do morador</th>\n",
       "      <th>Sexo</th>\n",
       "      <th>Cor ou raça</th>\n",
       "      <th>Escolaridade</th>\n",
       "      <th>trabalhou ou fez algum bico?</th>\n",
       "      <th>Tem mais de um trabalho</th>\n",
       "      <th>No trabalho qual sua posição?</th>\n",
       "      <th>Quantas horas, por semana, trabalhava?</th>\n",
       "      <th>Recebia/retirava normalmente em dinheiro</th>\n",
       "      <th>Valor em dinheiro</th>\n",
       "      <th>Valor em dinheiro sacado</th>\n",
       "      <th>O(A) Sr(a) contribui para o INSS?</th>\n",
       "      <th>Este domicílio é:</th>\n",
       "    </tr>\n",
       "  </thead>\n",
       "  <tbody>\n",
       "    <tr>\n",
       "      <th>0</th>\n",
       "      <td>1</td>\n",
       "      <td>1</td>\n",
       "      <td>1</td>\n",
       "      <td>78</td>\n",
       "      <td>1</td>\n",
       "      <td>1</td>\n",
       "      <td>5</td>\n",
       "      <td>1</td>\n",
       "      <td>2</td>\n",
       "      <td>7</td>\n",
       "      <td>40</td>\n",
       "      <td>1.0</td>\n",
       "      <td>10000.0</td>\n",
       "      <td>10000.0</td>\n",
       "      <td>1</td>\n",
       "      <td>1</td>\n",
       "    </tr>\n",
       "    <tr>\n",
       "      <th>1</th>\n",
       "      <td>1</td>\n",
       "      <td>1</td>\n",
       "      <td>1</td>\n",
       "      <td>36</td>\n",
       "      <td>2</td>\n",
       "      <td>4</td>\n",
       "      <td>5</td>\n",
       "      <td>2</td>\n",
       "      <td>2</td>\n",
       "      <td>7</td>\n",
       "      <td>50</td>\n",
       "      <td>1.0</td>\n",
       "      <td>13000.0</td>\n",
       "      <td>0.0</td>\n",
       "      <td>2</td>\n",
       "      <td>3</td>\n",
       "    </tr>\n",
       "    <tr>\n",
       "      <th>2</th>\n",
       "      <td>1</td>\n",
       "      <td>1</td>\n",
       "      <td>2</td>\n",
       "      <td>61</td>\n",
       "      <td>2</td>\n",
       "      <td>1</td>\n",
       "      <td>3</td>\n",
       "      <td>1</td>\n",
       "      <td>2</td>\n",
       "      <td>7</td>\n",
       "      <td>40</td>\n",
       "      <td>1.0</td>\n",
       "      <td>2100.0</td>\n",
       "      <td>1500.0</td>\n",
       "      <td>1</td>\n",
       "      <td>1</td>\n",
       "    </tr>\n",
       "    <tr>\n",
       "      <th>3</th>\n",
       "      <td>1</td>\n",
       "      <td>1</td>\n",
       "      <td>2</td>\n",
       "      <td>55</td>\n",
       "      <td>1</td>\n",
       "      <td>3</td>\n",
       "      <td>7</td>\n",
       "      <td>1</td>\n",
       "      <td>2</td>\n",
       "      <td>7</td>\n",
       "      <td>40</td>\n",
       "      <td>1.0</td>\n",
       "      <td>2000.0</td>\n",
       "      <td>0.0</td>\n",
       "      <td>2</td>\n",
       "      <td>3</td>\n",
       "    </tr>\n",
       "    <tr>\n",
       "      <th>4</th>\n",
       "      <td>1</td>\n",
       "      <td>1</td>\n",
       "      <td>2</td>\n",
       "      <td>45</td>\n",
       "      <td>2</td>\n",
       "      <td>1</td>\n",
       "      <td>5</td>\n",
       "      <td>1</td>\n",
       "      <td>2</td>\n",
       "      <td>7</td>\n",
       "      <td>40</td>\n",
       "      <td>1.0</td>\n",
       "      <td>2250.0</td>\n",
       "      <td>0.0</td>\n",
       "      <td>1</td>\n",
       "      <td>1</td>\n",
       "    </tr>\n",
       "  </tbody>\n",
       "</table>\n",
       "</div>"
      ],
      "text/plain": [
       "   Situação do domicílio  Tipo de área  Condição no domicílio  \\\n",
       "0                      1             1                      1   \n",
       "1                      1             1                      1   \n",
       "2                      1             1                      2   \n",
       "3                      1             1                      2   \n",
       "4                      1             1                      2   \n",
       "\n",
       "   Idade do morador  Sexo  Cor ou raça  Escolaridade  \\\n",
       "0                78     1            1             5   \n",
       "1                36     2            4             5   \n",
       "2                61     2            1             3   \n",
       "3                55     1            3             7   \n",
       "4                45     2            1             5   \n",
       "\n",
       "   trabalhou ou fez algum bico?  Tem mais de um trabalho  \\\n",
       "0                             1                        2   \n",
       "1                             2                        2   \n",
       "2                             1                        2   \n",
       "3                             1                        2   \n",
       "4                             1                        2   \n",
       "\n",
       "   No trabalho qual sua posição?  Quantas horas, por semana, trabalhava?  \\\n",
       "0                              7                                      40   \n",
       "1                              7                                      50   \n",
       "2                              7                                      40   \n",
       "3                              7                                      40   \n",
       "4                              7                                      40   \n",
       "\n",
       "   Recebia/retirava normalmente em dinheiro  Valor em dinheiro  \\\n",
       "0                                       1.0            10000.0   \n",
       "1                                       1.0            13000.0   \n",
       "2                                       1.0             2100.0   \n",
       "3                                       1.0             2000.0   \n",
       "4                                       1.0             2250.0   \n",
       "\n",
       "   Valor em dinheiro sacado  O(A) Sr(a) contribui para o INSS?  \\\n",
       "0                   10000.0                                  1   \n",
       "1                       0.0                                  2   \n",
       "2                    1500.0                                  1   \n",
       "3                       0.0                                  2   \n",
       "4                       0.0                                  1   \n",
       "\n",
       "   Este domicílio é:  \n",
       "0                  1  \n",
       "1                  3  \n",
       "2                  1  \n",
       "3                  3  \n",
       "4                  1  "
      ]
     },
     "execution_count": 5,
     "metadata": {},
     "output_type": "execute_result"
    }
   ],
   "source": [
    "df.head()"
   ]
  },
  {
   "cell_type": "markdown",
   "metadata": {},
   "source": [
    "### Tratamento de dados"
   ]
  },
  {
   "cell_type": "code",
   "execution_count": 6,
   "metadata": {
    "scrolled": true
   },
   "outputs": [
    {
     "data": {
      "text/plain": [
       "Valor em dinheiro sacado                    8\n",
       "Valor em dinheiro                           8\n",
       "Recebia/retirava normalmente em dinheiro    8\n",
       "Este domicílio é:                           0\n",
       "O(A) Sr(a) contribui para o INSS?           0\n",
       "Quantas horas, por semana, trabalhava?      0\n",
       "No trabalho qual sua posição?               0\n",
       "Tem mais de um trabalho                     0\n",
       "trabalhou ou fez algum bico?                0\n",
       "Escolaridade                                0\n",
       "Cor ou raça                                 0\n",
       "Sexo                                        0\n",
       "Idade do morador                            0\n",
       "Condição no domicílio                       0\n",
       "Tipo de área                                0\n",
       "Situação do domicílio                       0\n",
       "dtype: int64"
      ]
     },
     "execution_count": 6,
     "metadata": {},
     "output_type": "execute_result"
    }
   ],
   "source": [
    "df.isna().sum().sort_values(ascending=False)"
   ]
  },
  {
   "cell_type": "code",
   "execution_count": 7,
   "metadata": {},
   "outputs": [
    {
     "data": {
      "text/plain": [
       "array([ 1., nan])"
      ]
     },
     "execution_count": 7,
     "metadata": {},
     "output_type": "execute_result"
    }
   ],
   "source": [
    "df['Recebia/retirava normalmente em dinheiro'].unique()"
   ]
  },
  {
   "cell_type": "code",
   "execution_count": 8,
   "metadata": {},
   "outputs": [],
   "source": [
    "df['Recebia/retirava normalmente em dinheiro'].fillna(0, inplace=True)\n",
    "df['Valor em dinheiro'].fillna(0, inplace=True)\n",
    "df['Valor em dinheiro sacado'].fillna(0, inplace=True)"
   ]
  },
  {
   "cell_type": "markdown",
   "metadata": {},
   "source": [
    "Como as demais informações estão preenchidas podemos subentender que a ausência de informação caracteriza um valor de recebimento ou saque igual a zero."
   ]
  },
  {
   "cell_type": "code",
   "execution_count": 9,
   "metadata": {},
   "outputs": [
    {
     "name": "stdout",
     "output_type": "stream",
     "text": [
      "<class 'pandas.core.frame.DataFrame'>\n",
      "RangeIndex: 270 entries, 0 to 269\n",
      "Data columns (total 16 columns):\n",
      " #   Column                                    Non-Null Count  Dtype  \n",
      "---  ------                                    --------------  -----  \n",
      " 0   Situação do domicílio                     270 non-null    int64  \n",
      " 1   Tipo de área                              270 non-null    int64  \n",
      " 2   Condição no domicílio                     270 non-null    int64  \n",
      " 3   Idade do morador                          270 non-null    int64  \n",
      " 4   Sexo                                      270 non-null    int64  \n",
      " 5   Cor ou raça                               270 non-null    int64  \n",
      " 6   Escolaridade                              270 non-null    int64  \n",
      " 7   trabalhou ou fez algum bico?              270 non-null    int64  \n",
      " 8   Tem mais de um trabalho                   270 non-null    int64  \n",
      " 9   No trabalho qual sua posição?             270 non-null    int64  \n",
      " 10  Quantas horas, por semana, trabalhava?    270 non-null    int64  \n",
      " 11  Recebia/retirava normalmente em dinheiro  270 non-null    float64\n",
      " 12  Valor em dinheiro                         270 non-null    float64\n",
      " 13  Valor em dinheiro sacado                  270 non-null    float64\n",
      " 14  O(A) Sr(a) contribui para o INSS?         270 non-null    int64  \n",
      " 15  Este domicílio é:                         270 non-null    int64  \n",
      "dtypes: float64(3), int64(13)\n",
      "memory usage: 33.9 KB\n"
     ]
    }
   ],
   "source": [
    "df.info()"
   ]
  },
  {
   "cell_type": "markdown",
   "metadata": {},
   "source": [
    "### Feature Engineering"
   ]
  },
  {
   "cell_type": "markdown",
   "metadata": {},
   "source": [
    "##### Agrupamento da escolaridade\n",
    "* 1\t- Sem instrução;\n",
    "* 2\t- Fundamental incompleto;\n",
    "* 3\t- Fundamental completa;\n",
    "* 4\t- Médio incompleto;\n",
    "* 5\t- Médio completo."
   ]
  },
  {
   "cell_type": "code",
   "execution_count": 10,
   "metadata": {},
   "outputs": [],
   "source": [
    "df['Escolaridade'] = df['Escolaridade'].apply(lambda x: 5 if x in {1, 2, 3, 4, 5} else x)"
   ]
  },
  {
   "cell_type": "markdown",
   "metadata": {},
   "source": [
    "##### Transformação do atributo, removendo a capital da variável categórica 4 para deixá-la apenas com os dados do interior:\n",
    "* 1\t- Capital;\n",
    "* 2\t- Resto da RM (Região Metropolitana, excluindo a capital);\n",
    "* 3\t- Resto da RIDE (Região Integrada de Desenvolvimento Econômico, excluindo a capital) ;\n",
    "* 4\t- Resto da UF  (Unidade da Federação, excluindo a região metropolitana e a RIDE)."
   ]
  },
  {
   "cell_type": "markdown",
   "metadata": {},
   "source": [
    "##### Característica Geográfica:\n",
    "   * Capital - 1521.11 km²\n",
    "   * Região Metropolitana - 7946.84 km²\n",
    "   * Interior - 240262.59 km²"
   ]
  },
  {
   "cell_type": "code",
   "execution_count": 11,
   "metadata": {},
   "outputs": [],
   "source": [
    "df['Localização'] = df['Tipo de área'].apply(lambda x: round(1521.11/df.where(df['Tipo de área'] == 1)['Tipo de área'].count()) if x == 1 else\n",
    "                                            (round(7946.84/df.where(df['Tipo de área'] == 2)['Tipo de área'].count()) if x == 2 else \n",
    "                                            (round(240262.59/df.where(df['Tipo de área'] == 4)['Tipo de área'].count())\n",
    "                                                          )))"
   ]
  },
  {
   "cell_type": "markdown",
   "metadata": {},
   "source": [
    "##### Razão de comércios Capital x Interior"
   ]
  },
  {
   "cell_type": "code",
   "execution_count": 12,
   "metadata": {
    "scrolled": true
   },
   "outputs": [
    {
     "data": {
      "text/plain": [
       "60.60954469754569"
      ]
     },
     "execution_count": 12,
     "metadata": {},
     "output_type": "execute_result"
    }
   ],
   "source": [
    "qtd_capital_km2 = 1521.11/df.where(df['Tipo de área'] == 1)['Tipo de área'].count()\n",
    "qtd_interior_km2 = 240262.59/df.where(df['Tipo de área'] == 4)['Tipo de área'].count()\n",
    "qtd_interior_km2/qtd_capital_km2"
   ]
  },
  {
   "cell_type": "markdown",
   "metadata": {},
   "source": [
    "Capital possui uma concentração 57x maior de comercios do segmento de lojas e atacado"
   ]
  },
  {
   "cell_type": "markdown",
   "metadata": {},
   "source": [
    "### Analisando Variáveis Contínuas"
   ]
  },
  {
   "cell_type": "code",
   "execution_count": 13,
   "metadata": {},
   "outputs": [],
   "source": [
    "def diagnostic_plots(df, variable):\n",
    "    # function takes a dataframe (df) and\n",
    "    # the variable of interest as arguments\n",
    "\n",
    "    # define figure size\n",
    "    plt.figure(figsize=(16, 4))\n",
    "\n",
    "    # histogram\n",
    "    plt.subplot(1, 3, 1)\n",
    "    sn.distplot(df[variable], bins=30)\n",
    "    plt.title('Histogram')\n",
    "\n",
    "    # Q-Q plot\n",
    "    plt.subplot(1, 3, 2)\n",
    "    stats.probplot(df[variable], dist=\"norm\", plot=plt)\n",
    "    plt.ylabel('quantils')\n",
    "\n",
    "    # boxplot\n",
    "    plt.subplot(1, 3, 3)\n",
    "    sn.boxplot(y=df[variable])\n",
    "    plt.title('Boxplot')\n",
    "\n",
    "    plt.show()"
   ]
  },
  {
   "cell_type": "markdown",
   "metadata": {},
   "source": [
    "#### Analisando a distribuição da Idade do morador"
   ]
  },
  {
   "cell_type": "code",
   "execution_count": 14,
   "metadata": {
    "scrolled": true
   },
   "outputs": [
    {
     "data": {
      "image/png": "[encoded data removed]",
      "text/plain": [
       "<Figure size 1152x288 with 3 Axes>"
      ]
     },
     "metadata": {
      "needs_background": "light"
     },
     "output_type": "display_data"
    }
   ],
   "source": [
    "diagnostic_plots(df, 'Idade do morador')"
   ]
  },
  {
   "cell_type": "markdown",
   "metadata": {},
   "source": [
    "#### Analisando a distribuição da quantidade de horas trabalhadas por semana"
   ]
  },
  {
   "cell_type": "code",
   "execution_count": 15,
   "metadata": {
    "scrolled": false
   },
   "outputs": [
    {
     "data": {
      "image/png": "[encoded data removed]",
      "text/plain": [
       "<Figure size 1152x288 with 3 Axes>"
      ]
     },
     "metadata": {
      "needs_background": "light"
     },
     "output_type": "display_data"
    }
   ],
   "source": [
    "diagnostic_plots(df, 'Quantas horas, por semana, trabalhava?')"
   ]
  },
  {
   "cell_type": "markdown",
   "metadata": {},
   "source": [
    "#### Analisando a distribuição do valor recebido em dinheiro"
   ]
  },
  {
   "cell_type": "code",
   "execution_count": 16,
   "metadata": {
    "scrolled": true
   },
   "outputs": [
    {
     "data": {
      "image/png": "[encoded data removed]",
      "text/plain": [
       "<Figure size 1152x288 with 3 Axes>"
      ]
     },
     "metadata": {
      "needs_background": "light"
     },
     "output_type": "display_data"
    }
   ],
   "source": [
    "diagnostic_plots(df, 'Valor em dinheiro')"
   ]
  },
  {
   "cell_type": "markdown",
   "metadata": {},
   "source": [
    "#### Analisando a distribuição do valor sacado em dinheiro"
   ]
  },
  {
   "cell_type": "code",
   "execution_count": 17,
   "metadata": {
    "scrolled": false
   },
   "outputs": [
    {
     "data": {
      "image/png": "[encoded data removed]",
      "text/plain": [
       "<Figure size 1152x288 with 3 Axes>"
      ]
     },
     "metadata": {
      "needs_background": "light"
     },
     "output_type": "display_data"
    }
   ],
   "source": [
    "diagnostic_plots(df, 'Valor em dinheiro sacado')"
   ]
  },
  {
   "cell_type": "markdown",
   "metadata": {},
   "source": [
    "### Analisando a distribuição da Idade do morador"
   ]
  },
  {
   "cell_type": "code",
   "execution_count": 18,
   "metadata": {},
   "outputs": [
    {
     "data": {
      "text/html": [
       "<div>\n",
       "<style scoped>\n",
       "    .dataframe tbody tr th:only-of-type {\n",
       "        vertical-align: middle;\n",
       "    }\n",
       "\n",
       "    .dataframe tbody tr th {\n",
       "        vertical-align: top;\n",
       "    }\n",
       "\n",
       "    .dataframe thead th {\n",
       "        text-align: right;\n",
       "    }\n",
       "</style>\n",
       "<table border=\"1\" class=\"dataframe\">\n",
       "  <thead>\n",
       "    <tr style=\"text-align: right;\">\n",
       "      <th></th>\n",
       "      <th>Idade do morador</th>\n",
       "      <th>Quantas horas, por semana, trabalhava?</th>\n",
       "      <th>Valor em dinheiro</th>\n",
       "      <th>Valor em dinheiro sacado</th>\n",
       "    </tr>\n",
       "  </thead>\n",
       "  <tbody>\n",
       "    <tr>\n",
       "      <th>count</th>\n",
       "      <td>270.000000</td>\n",
       "      <td>270.000000</td>\n",
       "      <td>270.000000</td>\n",
       "      <td>270.000000</td>\n",
       "    </tr>\n",
       "    <tr>\n",
       "      <th>mean</th>\n",
       "      <td>46.459259</td>\n",
       "      <td>46.511111</td>\n",
       "      <td>2532.933333</td>\n",
       "      <td>1473.155556</td>\n",
       "    </tr>\n",
       "    <tr>\n",
       "      <th>std</th>\n",
       "      <td>12.489855</td>\n",
       "      <td>13.988507</td>\n",
       "      <td>2114.921656</td>\n",
       "      <td>1772.309265</td>\n",
       "    </tr>\n",
       "    <tr>\n",
       "      <th>min</th>\n",
       "      <td>18.000000</td>\n",
       "      <td>6.000000</td>\n",
       "      <td>0.000000</td>\n",
       "      <td>0.000000</td>\n",
       "    </tr>\n",
       "    <tr>\n",
       "      <th>25%</th>\n",
       "      <td>37.000000</td>\n",
       "      <td>40.000000</td>\n",
       "      <td>1300.000000</td>\n",
       "      <td>0.000000</td>\n",
       "    </tr>\n",
       "    <tr>\n",
       "      <th>50%</th>\n",
       "      <td>47.000000</td>\n",
       "      <td>44.000000</td>\n",
       "      <td>2000.000000</td>\n",
       "      <td>1000.000000</td>\n",
       "    </tr>\n",
       "    <tr>\n",
       "      <th>75%</th>\n",
       "      <td>56.000000</td>\n",
       "      <td>50.000000</td>\n",
       "      <td>3000.000000</td>\n",
       "      <td>2000.000000</td>\n",
       "    </tr>\n",
       "    <tr>\n",
       "      <th>max</th>\n",
       "      <td>85.000000</td>\n",
       "      <td>120.000000</td>\n",
       "      <td>15000.000000</td>\n",
       "      <td>10000.000000</td>\n",
       "    </tr>\n",
       "  </tbody>\n",
       "</table>\n",
       "</div>"
      ],
      "text/plain": [
       "       Idade do morador  Quantas horas, por semana, trabalhava?  \\\n",
       "count        270.000000                              270.000000   \n",
       "mean          46.459259                               46.511111   \n",
       "std           12.489855                               13.988507   \n",
       "min           18.000000                                6.000000   \n",
       "25%           37.000000                               40.000000   \n",
       "50%           47.000000                               44.000000   \n",
       "75%           56.000000                               50.000000   \n",
       "max           85.000000                              120.000000   \n",
       "\n",
       "       Valor em dinheiro  Valor em dinheiro sacado  \n",
       "count         270.000000                270.000000  \n",
       "mean         2532.933333               1473.155556  \n",
       "std          2114.921656               1772.309265  \n",
       "min             0.000000                  0.000000  \n",
       "25%          1300.000000                  0.000000  \n",
       "50%          2000.000000               1000.000000  \n",
       "75%          3000.000000               2000.000000  \n",
       "max         15000.000000              10000.000000  "
      ]
     },
     "execution_count": 18,
     "metadata": {},
     "output_type": "execute_result"
    }
   ],
   "source": [
    "num = ['Idade do morador','Quantas horas, por semana, trabalhava?','Valor em dinheiro','Valor em dinheiro sacado']\n",
    "df[num].describe()"
   ]
  },
  {
   "cell_type": "markdown",
   "metadata": {},
   "source": [
    "### Analisando Variáveis Categóricas"
   ]
  },
  {
   "cell_type": "markdown",
   "metadata": {},
   "source": [
    "##### Variável - Situação do domicilio\n",
    "* 1\t- Urbana\n",
    "* 2 - Rural"
   ]
  },
  {
   "cell_type": "code",
   "execution_count": 19,
   "metadata": {
    "scrolled": false
   },
   "outputs": [
    {
     "data": {
      "text/plain": [
       "<matplotlib.axes._subplots.AxesSubplot at 0x19a1cc404f0>"
      ]
     },
     "execution_count": 19,
     "metadata": {},
     "output_type": "execute_result"
    },
    {
     "data": {
      "image/png": "[encoded data removed]",
      "text/plain": [
       "<Figure size 720x360 with 1 Axes>"
      ]
     },
     "metadata": {
      "needs_background": "light"
     },
     "output_type": "display_data"
    }
   ],
   "source": [
    "plt.figure(figsize = (10,5))\n",
    "sn.countplot(x = 'Situação do domicílio', data = df)"
   ]
  },
  {
   "cell_type": "markdown",
   "metadata": {},
   "source": [
    "#####  Variável - Tipo de área\n",
    "* 1\t- Capital\n",
    "* 2 - Resto da RM (Região Metropolitana, excluindo a capital)\n",
    "* 4 - Resto da UF"
   ]
  },
  {
   "cell_type": "code",
   "execution_count": 20,
   "metadata": {},
   "outputs": [
    {
     "data": {
      "text/plain": [
       "<matplotlib.axes._subplots.AxesSubplot at 0x19a1cc407f0>"
      ]
     },
     "execution_count": 20,
     "metadata": {},
     "output_type": "execute_result"
    },
    {
     "data": {
      "image/png": "[encoded data removed]",
      "text/plain": [
       "<Figure size 720x360 with 1 Axes>"
      ]
     },
     "metadata": {
      "needs_background": "light"
     },
     "output_type": "display_data"
    }
   ],
   "source": [
    "plt.figure(figsize = (10,5))\n",
    "sn.countplot(x = 'Localização', hue='Tipo de área', data = df)"
   ]
  },
  {
   "cell_type": "markdown",
   "metadata": {},
   "source": [
    "##### Variável - Condição no domicílio\n",
    "* 1\t- Pessoa responsável pelo domicílio\n",
    "* 2 - Cônjuge ou companheiro(a) de sexo diferente\n",
    "* 4 - Filho(a) do responsável e do cônjuge\n",
    "* 5 - Filho(a) somente do responsável\n",
    "* 6 - Filho(a) somente do cônjuge\n",
    "* 7 - Genro ou nora\n",
    "* 8 - Pai, mãe, padastro ou madastra\n",
    "* 10 - Neto(a)\n",
    "* 12 - Irmão ou irmã\n",
    "* 14 - Outro parente\n",
    "* 16 - Convivente - Não parente que compartilha despesas"
   ]
  },
  {
   "cell_type": "code",
   "execution_count": 21,
   "metadata": {},
   "outputs": [
    {
     "data": {
      "text/plain": [
       "<matplotlib.axes._subplots.AxesSubplot at 0x19a1ca18a00>"
      ]
     },
     "execution_count": 21,
     "metadata": {},
     "output_type": "execute_result"
    },
    {
     "data": {
      "image/png": "[encoded data removed]",
      "text/plain": [
       "<Figure size 720x360 with 1 Axes>"
      ]
     },
     "metadata": {
      "needs_background": "light"
     },
     "output_type": "display_data"
    }
   ],
   "source": [
    "plt.figure(figsize = (10,5))\n",
    "sn.countplot(x = 'Condição no domicílio', data = df)"
   ]
  },
  {
   "cell_type": "markdown",
   "metadata": {},
   "source": [
    "##### Variável - Sexo\n",
    "* 1 - Homem\n",
    "* 2 - Mulher"
   ]
  },
  {
   "cell_type": "code",
   "execution_count": 22,
   "metadata": {},
   "outputs": [
    {
     "data": {
      "text/plain": [
       "<matplotlib.axes._subplots.AxesSubplot at 0x19a1c954580>"
      ]
     },
     "execution_count": 22,
     "metadata": {},
     "output_type": "execute_result"
    },
    {
     "data": {
      "image/png": "[encoded data removed]",
      "text/plain": [
       "<Figure size 720x360 with 1 Axes>"
      ]
     },
     "metadata": {
      "needs_background": "light"
     },
     "output_type": "display_data"
    }
   ],
   "source": [
    "plt.figure(figsize = (10,5))\n",
    "sn.countplot(x = 'Sexo', data = df)"
   ]
  },
  {
   "cell_type": "markdown",
   "metadata": {},
   "source": [
    "##### Variável - Cor ou raça\n",
    "* 1 - Branca\n",
    "* 2 - Preta\n",
    "* 3 - Amarela\n",
    "* 4 - Parda"
   ]
  },
  {
   "cell_type": "code",
   "execution_count": 23,
   "metadata": {},
   "outputs": [
    {
     "data": {
      "text/plain": [
       "<matplotlib.axes._subplots.AxesSubplot at 0x19a1b8ac370>"
      ]
     },
     "execution_count": 23,
     "metadata": {},
     "output_type": "execute_result"
    },
    {
     "data": {
      "image/png": "[encoded data removed]",
      "text/plain": [
       "<Figure size 720x360 with 1 Axes>"
      ]
     },
     "metadata": {
      "needs_background": "light"
     },
     "output_type": "display_data"
    }
   ],
   "source": [
    "plt.figure(figsize = (10,5))\n",
    "sn.countplot(x = 'Cor ou raça', data = df)"
   ]
  },
  {
   "cell_type": "markdown",
   "metadata": {},
   "source": [
    "##### Variável - Escolaridade\n",
    "* 5 - Médio completo\n",
    "* 6 - Superior incompleto\n",
    "* 7 - Superior completo\n",
    "* 8 - Pós-graduação, mestrado ou doutorado"
   ]
  },
  {
   "cell_type": "code",
   "execution_count": 24,
   "metadata": {},
   "outputs": [
    {
     "data": {
      "text/plain": [
       "<matplotlib.axes._subplots.AxesSubplot at 0x19a1b97ac40>"
      ]
     },
     "execution_count": 24,
     "metadata": {},
     "output_type": "execute_result"
    },
    {
     "data": {
      "image/png": "[encoded data removed]",
      "text/plain": [
       "<Figure size 720x360 with 1 Axes>"
      ]
     },
     "metadata": {
      "needs_background": "light"
     },
     "output_type": "display_data"
    }
   ],
   "source": [
    "plt.figure(figsize = (10,5))\n",
    "sn.countplot(x = 'Escolaridade', data = df)"
   ]
  },
  {
   "cell_type": "markdown",
   "metadata": {},
   "source": [
    "##### Variável - trabalhou ou fez algum bico?\n",
    "* 1 - Sim\n",
    "* 2 - Não"
   ]
  },
  {
   "cell_type": "code",
   "execution_count": 25,
   "metadata": {},
   "outputs": [
    {
     "data": {
      "text/plain": [
       "<matplotlib.axes._subplots.AxesSubplot at 0x19a1b96bac0>"
      ]
     },
     "execution_count": 25,
     "metadata": {},
     "output_type": "execute_result"
    },
    {
     "data": {
      "image/png": "[encoded data removed]",
      "text/plain": [
       "<Figure size 720x360 with 1 Axes>"
      ]
     },
     "metadata": {
      "needs_background": "light"
     },
     "output_type": "display_data"
    }
   ],
   "source": [
    "plt.figure(figsize = (10,5))\n",
    "sn.countplot(x = 'trabalhou ou fez algum bico?', data = df)"
   ]
  },
  {
   "cell_type": "markdown",
   "metadata": {},
   "source": [
    "##### Variável - Tem mais de um trabalho\n",
    "* 1 - Sim\n",
    "* 2 - Não"
   ]
  },
  {
   "cell_type": "code",
   "execution_count": 26,
   "metadata": {
    "scrolled": true
   },
   "outputs": [
    {
     "data": {
      "text/plain": [
       "<matplotlib.axes._subplots.AxesSubplot at 0x19a1cc2f880>"
      ]
     },
     "execution_count": 26,
     "metadata": {},
     "output_type": "execute_result"
    },
    {
     "data": {
      "image/png": "[encoded data removed]",
      "text/plain": [
       "<Figure size 720x360 with 1 Axes>"
      ]
     },
     "metadata": {
      "needs_background": "light"
     },
     "output_type": "display_data"
    }
   ],
   "source": [
    "plt.figure(figsize = (10,5))\n",
    "sn.countplot(x = 'Tem mais de um trabalho', data = df)"
   ]
  },
  {
   "cell_type": "markdown",
   "metadata": {},
   "source": [
    "##### Variável - No trabalho qual sua posição?\n",
    "* 6 - Empregador\n",
    "* 7 - Conta Própria\n",
    "* 8 - Trabalhador familiar não remunerado em ajuda a membro do domicílio ou parente"
   ]
  },
  {
   "cell_type": "code",
   "execution_count": 27,
   "metadata": {
    "scrolled": true
   },
   "outputs": [
    {
     "data": {
      "text/plain": [
       "<matplotlib.axes._subplots.AxesSubplot at 0x19a1cb4f280>"
      ]
     },
     "execution_count": 27,
     "metadata": {},
     "output_type": "execute_result"
    },
    {
     "data": {
      "image/png": "[encoded data removed]",
      "text/plain": [
       "<Figure size 720x360 with 1 Axes>"
      ]
     },
     "metadata": {
      "needs_background": "light"
     },
     "output_type": "display_data"
    }
   ],
   "source": [
    "plt.figure(figsize = (10,5))\n",
    "sn.countplot(x = 'No trabalho qual sua posição?', data = df)"
   ]
  },
  {
   "cell_type": "markdown",
   "metadata": {},
   "source": [
    "##### Variável - Recebia/retirava normalmente em dinheiro\n",
    "* 1 - Em dinheiro"
   ]
  },
  {
   "cell_type": "code",
   "execution_count": 28,
   "metadata": {},
   "outputs": [
    {
     "data": {
      "text/plain": [
       "<matplotlib.axes._subplots.AxesSubplot at 0x19a1c5241c0>"
      ]
     },
     "execution_count": 28,
     "metadata": {},
     "output_type": "execute_result"
    },
    {
     "data": {
      "image/png": "[encoded data removed]",
      "text/plain": [
       "<Figure size 720x360 with 1 Axes>"
      ]
     },
     "metadata": {
      "needs_background": "light"
     },
     "output_type": "display_data"
    }
   ],
   "source": [
    "plt.figure(figsize = (10,5))\n",
    "sn.countplot(x = 'Recebia/retirava normalmente em dinheiro', data = df)"
   ]
  },
  {
   "cell_type": "markdown",
   "metadata": {},
   "source": [
    "##### Variável - O(A) Sr(a) contribui para o INSS?\n",
    "* 1 - Sim\n",
    "* 2 - Não"
   ]
  },
  {
   "cell_type": "code",
   "execution_count": 29,
   "metadata": {},
   "outputs": [
    {
     "data": {
      "text/plain": [
       "<matplotlib.axes._subplots.AxesSubplot at 0x19a1c53e460>"
      ]
     },
     "execution_count": 29,
     "metadata": {},
     "output_type": "execute_result"
    },
    {
     "data": {
      "image/png": "[encoded data removed]",
      "text/plain": [
       "<Figure size 720x360 with 1 Axes>"
      ]
     },
     "metadata": {
      "needs_background": "light"
     },
     "output_type": "display_data"
    }
   ],
   "source": [
    "plt.figure(figsize = (10,5))\n",
    "sn.countplot(x = 'O(A) Sr(a) contribui para o INSS?', data = df)"
   ]
  },
  {
   "cell_type": "markdown",
   "metadata": {},
   "source": [
    "##### Variável - Este domicílio é:\n",
    "* 1 - Próprio - já pago\n",
    "* 2 - Próprio - ainda pagando\n",
    "* 3 - Alugado\n",
    "* 4 - Cedido por empregador\n",
    "* 5 - Cedido por familiar\n",
    "* 6 - Cedido de outra forma\n",
    "* 7 - Outra condição"
   ]
  },
  {
   "cell_type": "code",
   "execution_count": 30,
   "metadata": {
    "scrolled": true
   },
   "outputs": [
    {
     "data": {
      "text/plain": [
       "<matplotlib.axes._subplots.AxesSubplot at 0x19a1c06d310>"
      ]
     },
     "execution_count": 30,
     "metadata": {},
     "output_type": "execute_result"
    },
    {
     "data": {
      "image/png": "[encoded data removed]",
      "text/plain": [
       "<Figure size 720x360 with 1 Axes>"
      ]
     },
     "metadata": {
      "needs_background": "light"
     },
     "output_type": "display_data"
    }
   ],
   "source": [
    "plt.figure(figsize = (10,5))\n",
    "sn.countplot(x = 'Este domicílio é:', data = df)"
   ]
  },
  {
   "cell_type": "markdown",
   "metadata": {},
   "source": [
    "Com o resultado dessa análise já conseguimos definir uma persona do nosso problema."
   ]
  },
  {
   "cell_type": "markdown",
   "metadata": {},
   "source": [
    "# Análise da Pesquisa Mensal de Comércio - PMC\n",
    "### Tabela  6 - Indicadores de Receita Nominal de Vendas do Comércio Varejista Ampliado, segundo as atividades de divulgação - Variação (%)\n",
    "A PMC investiga a receita bruta de revenda do mês de referência da pesquisa. A receita bruta de revenda é definida como a proveniente da revenda de mercadorias, sem deduções dos impostos e contribuições que incidem diretamente sobre essas receitas.\n",
    "### Período de Junho/2018 à Maio/2020\n",
    "##### Fonte: https://www.ibge.gov.br/estatisticas/economicas/comercio/9227-pesquisa-mensal-de-comercio.html"
   ]
  },
  {
   "cell_type": "markdown",
   "metadata": {},
   "source": [
    "### Importado os arquivos com intervalo de 3 meses, pois cada relatório mostra o resultado os últimos 3 meses."
   ]
  },
  {
   "cell_type": "code",
   "execution_count": 31,
   "metadata": {
    "scrolled": true
   },
   "outputs": [
    {
     "data": {
      "text/plain": [
       "['pmc\\\\pmc_201808_06.xls',\n",
       " 'pmc\\\\pmc_201811_06.xls',\n",
       " 'pmc\\\\pmc_201902_06.xls',\n",
       " 'pmc\\\\pmc_201905_06.xls',\n",
       " 'pmc\\\\pmc_201908_06.xls',\n",
       " 'pmc\\\\pmc_201911_06.xls',\n",
       " 'pmc\\\\pmc_202002_06.xls',\n",
       " 'pmc\\\\pmc_202005_06.xls']"
      ]
     },
     "execution_count": 31,
     "metadata": {},
     "output_type": "execute_result"
    }
   ],
   "source": [
    "# Importando o glob, para encontrar todos os nomes de caminho que correspondem a um padrão especificado \n",
    "import glob\n",
    "\n",
    "# Obtendo os caminhos dos arquivos importados\n",
    "all_files = glob.glob(\"pmc/*.xls\")\n",
    "\n",
    "# Listando os arquivos importados\n",
    "all_files"
   ]
  },
  {
   "cell_type": "markdown",
   "metadata": {},
   "source": [
    "### Efetuando o tratamento do arquivo, obtendo as linhas por setor de atuação e as colunas mensais."
   ]
  },
  {
   "cell_type": "code",
   "execution_count": 32,
   "metadata": {},
   "outputs": [],
   "source": [
    "# Importando o pandas\n",
    "import pandas as pd\n",
    "\n",
    "li = []\n",
    "for filename in all_files:\n",
    "    df = pd.read_excel(filename, index_col=0, header=None)\n",
    "    df = df[6:20]\n",
    "    df = df.iloc[:, [3,4,5]].T\n",
    "    li.append(df)\n",
    "    \n",
    "dataset = pd.concat(li, axis=0, ignore_index=True)"
   ]
  },
  {
   "cell_type": "markdown",
   "metadata": {},
   "source": [
    "### Visualizando o dataset"
   ]
  },
  {
   "cell_type": "code",
   "execution_count": 33,
   "metadata": {
    "scrolled": false
   },
   "outputs": [
    {
     "data": {
      "text/html": [
       "<div>\n",
       "<style scoped>\n",
       "    .dataframe tbody tr th:only-of-type {\n",
       "        vertical-align: middle;\n",
       "    }\n",
       "\n",
       "    .dataframe tbody tr th {\n",
       "        vertical-align: top;\n",
       "    }\n",
       "\n",
       "    .dataframe thead th {\n",
       "        text-align: right;\n",
       "    }\n",
       "</style>\n",
       "<table border=\"1\" class=\"dataframe\">\n",
       "  <thead>\n",
       "    <tr style=\"text-align: right;\">\n",
       "      <th></th>\n",
       "      <th>Receita de vendas do comércio varejista (5)</th>\n",
       "      <th>1. Combustíveis e lubrificantes</th>\n",
       "      <th>2. Hipermercados, supermercados, produtos alimentícios bebidas e fumo</th>\n",
       "      <th>2.1. Hipermercados e supermercados</th>\n",
       "      <th>3. Tecidos, vestuário e calçados</th>\n",
       "      <th>4. Móveis e eletrodomésticos</th>\n",
       "      <th>4.1. Móveis</th>\n",
       "      <th>4.2. Eletrodomésticos</th>\n",
       "      <th>5. Artigos farmacêuticos, médicos, ortopédicos, de perfumaria e cosméticos</th>\n",
       "      <th>6. Livros, jornais, revistas e papelaria</th>\n",
       "      <th>7. Equipamentos e materiais para escritório, informática e comunicação</th>\n",
       "      <th>8. Outros artigos de uso pessoal e doméstico</th>\n",
       "      <th>Receita de vendas do comércio varejista ampliado (6)</th>\n",
       "      <th>9. Veículos, motocicletas, partes e peças</th>\n",
       "    </tr>\n",
       "  </thead>\n",
       "  <tbody>\n",
       "    <tr>\n",
       "      <th>0</th>\n",
       "      <td>5.3</td>\n",
       "      <td>13.3</td>\n",
       "      <td>5.1</td>\n",
       "      <td>5</td>\n",
       "      <td>-2.7</td>\n",
       "      <td>-0.4</td>\n",
       "      <td>1</td>\n",
       "      <td>-1</td>\n",
       "      <td>6.7</td>\n",
       "      <td>-9.1</td>\n",
       "      <td>-5.7</td>\n",
       "      <td>9.5</td>\n",
       "      <td>6.7</td>\n",
       "      <td>11</td>\n",
       "    </tr>\n",
       "    <tr>\n",
       "      <th>1</th>\n",
       "      <td>2.9</td>\n",
       "      <td>13.9</td>\n",
       "      <td>2.7</td>\n",
       "      <td>2.7</td>\n",
       "      <td>-7.1</td>\n",
       "      <td>-7.5</td>\n",
       "      <td>-5.3</td>\n",
       "      <td>-8.6</td>\n",
       "      <td>7.4</td>\n",
       "      <td>-7.9</td>\n",
       "      <td>-6.7</td>\n",
       "      <td>5.7</td>\n",
       "      <td>5.8</td>\n",
       "      <td>17.2</td>\n",
       "    </tr>\n",
       "    <tr>\n",
       "      <th>2</th>\n",
       "      <td>7.6</td>\n",
       "      <td>11.7</td>\n",
       "      <td>8.2</td>\n",
       "      <td>8.9</td>\n",
       "      <td>4.2</td>\n",
       "      <td>-2.6</td>\n",
       "      <td>-1.7</td>\n",
       "      <td>-3</td>\n",
       "      <td>9.6</td>\n",
       "      <td>-9.7</td>\n",
       "      <td>0.5</td>\n",
       "      <td>10.9</td>\n",
       "      <td>9.7</td>\n",
       "      <td>16.9</td>\n",
       "    </tr>\n",
       "    <tr>\n",
       "      <th>3</th>\n",
       "      <td>4.2</td>\n",
       "      <td>11.7</td>\n",
       "      <td>3.7</td>\n",
       "      <td>3.9</td>\n",
       "      <td>2.3</td>\n",
       "      <td>-2.4</td>\n",
       "      <td>-1.7</td>\n",
       "      <td>-2.7</td>\n",
       "      <td>4.3</td>\n",
       "      <td>-12.8</td>\n",
       "      <td>-3.2</td>\n",
       "      <td>5.3</td>\n",
       "      <td>5.6</td>\n",
       "      <td>12.6</td>\n",
       "    </tr>\n",
       "    <tr>\n",
       "      <th>4</th>\n",
       "      <td>6.7</td>\n",
       "      <td>13.1</td>\n",
       "      <td>6.1</td>\n",
       "      <td>5.9</td>\n",
       "      <td>4.9</td>\n",
       "      <td>-0.5</td>\n",
       "      <td>1.2</td>\n",
       "      <td>-1.3</td>\n",
       "      <td>8.8</td>\n",
       "      <td>-26.8</td>\n",
       "      <td>1.9</td>\n",
       "      <td>9.4</td>\n",
       "      <td>9.9</td>\n",
       "      <td>21.3</td>\n",
       "    </tr>\n",
       "    <tr>\n",
       "      <th>5</th>\n",
       "      <td>8.4</td>\n",
       "      <td>9.3</td>\n",
       "      <td>7.6</td>\n",
       "      <td>7.9</td>\n",
       "      <td>5</td>\n",
       "      <td>4.5</td>\n",
       "      <td>2.1</td>\n",
       "      <td>5.5</td>\n",
       "      <td>9.1</td>\n",
       "      <td>-29.2</td>\n",
       "      <td>1.5</td>\n",
       "      <td>17.6</td>\n",
       "      <td>9.2</td>\n",
       "      <td>14</td>\n",
       "    </tr>\n",
       "    <tr>\n",
       "      <th>6</th>\n",
       "      <td>3.9</td>\n",
       "      <td>5.8</td>\n",
       "      <td>5.9</td>\n",
       "      <td>6</td>\n",
       "      <td>-0.9</td>\n",
       "      <td>-1.8</td>\n",
       "      <td>-2.9</td>\n",
       "      <td>-1.3</td>\n",
       "      <td>8.1</td>\n",
       "      <td>-20.9</td>\n",
       "      <td>-3.5</td>\n",
       "      <td>2.8</td>\n",
       "      <td>4.5</td>\n",
       "      <td>7.8</td>\n",
       "    </tr>\n",
       "    <tr>\n",
       "      <th>7</th>\n",
       "      <td>4.7</td>\n",
       "      <td>2.4</td>\n",
       "      <td>6.5</td>\n",
       "      <td>6.8</td>\n",
       "      <td>-0.9</td>\n",
       "      <td>1.2</td>\n",
       "      <td>2.7</td>\n",
       "      <td>0.6</td>\n",
       "      <td>7.8</td>\n",
       "      <td>-25.8</td>\n",
       "      <td>2.9</td>\n",
       "      <td>6.8</td>\n",
       "      <td>5.8</td>\n",
       "      <td>9.6</td>\n",
       "    </tr>\n",
       "    <tr>\n",
       "      <th>8</th>\n",
       "      <td>7.5</td>\n",
       "      <td>2.4</td>\n",
       "      <td>7.4</td>\n",
       "      <td>7.6</td>\n",
       "      <td>11.5</td>\n",
       "      <td>7.1</td>\n",
       "      <td>10.6</td>\n",
       "      <td>5.6</td>\n",
       "      <td>10.9</td>\n",
       "      <td>-20.5</td>\n",
       "      <td>5.3</td>\n",
       "      <td>11.9</td>\n",
       "      <td>10.4</td>\n",
       "      <td>20.1</td>\n",
       "    </tr>\n",
       "    <tr>\n",
       "      <th>9</th>\n",
       "      <td>0.2</td>\n",
       "      <td>-1.5</td>\n",
       "      <td>1.5</td>\n",
       "      <td>1.7</td>\n",
       "      <td>-4</td>\n",
       "      <td>-0.8</td>\n",
       "      <td>0.4</td>\n",
       "      <td>-1.3</td>\n",
       "      <td>4.5</td>\n",
       "      <td>-33.4</td>\n",
       "      <td>2.1</td>\n",
       "      <td>-1.5</td>\n",
       "      <td>0.3</td>\n",
       "      <td>-0.5</td>\n",
       "    </tr>\n",
       "    <tr>\n",
       "      <th>10</th>\n",
       "      <td>7.3</td>\n",
       "      <td>2.2</td>\n",
       "      <td>9.7</td>\n",
       "      <td>10.2</td>\n",
       "      <td>-2.5</td>\n",
       "      <td>4.2</td>\n",
       "      <td>8.7</td>\n",
       "      <td>2.6</td>\n",
       "      <td>5.6</td>\n",
       "      <td>-21.8</td>\n",
       "      <td>-1.3</td>\n",
       "      <td>15.3</td>\n",
       "      <td>7.5</td>\n",
       "      <td>7.8</td>\n",
       "    </tr>\n",
       "    <tr>\n",
       "      <th>11</th>\n",
       "      <td>5.8</td>\n",
       "      <td>6.5</td>\n",
       "      <td>5.7</td>\n",
       "      <td>5.8</td>\n",
       "      <td>-0.7</td>\n",
       "      <td>10.5</td>\n",
       "      <td>19.4</td>\n",
       "      <td>7.1</td>\n",
       "      <td>9.9</td>\n",
       "      <td>-12.4</td>\n",
       "      <td>7.6</td>\n",
       "      <td>4.2</td>\n",
       "      <td>10</td>\n",
       "      <td>23.2</td>\n",
       "    </tr>\n",
       "    <tr>\n",
       "      <th>12</th>\n",
       "      <td>2.8</td>\n",
       "      <td>1.8</td>\n",
       "      <td>4.7</td>\n",
       "      <td>4.8</td>\n",
       "      <td>-0.9</td>\n",
       "      <td>-2.8</td>\n",
       "      <td>2</td>\n",
       "      <td>-4.8</td>\n",
       "      <td>7.3</td>\n",
       "      <td>-22.1</td>\n",
       "      <td>-7.2</td>\n",
       "      <td>0.9</td>\n",
       "      <td>4.2</td>\n",
       "      <td>10.6</td>\n",
       "    </tr>\n",
       "    <tr>\n",
       "      <th>13</th>\n",
       "      <td>6.6</td>\n",
       "      <td>1.5</td>\n",
       "      <td>5.9</td>\n",
       "      <td>6</td>\n",
       "      <td>7.5</td>\n",
       "      <td>11.8</td>\n",
       "      <td>12.4</td>\n",
       "      <td>11.3</td>\n",
       "      <td>10.7</td>\n",
       "      <td>-13.1</td>\n",
       "      <td>-0.1</td>\n",
       "      <td>9.6</td>\n",
       "      <td>9.5</td>\n",
       "      <td>18.4</td>\n",
       "    </tr>\n",
       "    <tr>\n",
       "      <th>14</th>\n",
       "      <td>3.9</td>\n",
       "      <td>-4.4</td>\n",
       "      <td>6.3</td>\n",
       "      <td>6.5</td>\n",
       "      <td>-2.3</td>\n",
       "      <td>2.9</td>\n",
       "      <td>6.6</td>\n",
       "      <td>1.4</td>\n",
       "      <td>6.9</td>\n",
       "      <td>-11.9</td>\n",
       "      <td>-3</td>\n",
       "      <td>6.2</td>\n",
       "      <td>3.7</td>\n",
       "      <td>3.9</td>\n",
       "    </tr>\n",
       "    <tr>\n",
       "      <th>15</th>\n",
       "      <td>3.6</td>\n",
       "      <td>-5.5</td>\n",
       "      <td>3.3</td>\n",
       "      <td>3.4</td>\n",
       "      <td>-0.4</td>\n",
       "      <td>10.9</td>\n",
       "      <td>11.3</td>\n",
       "      <td>10.9</td>\n",
       "      <td>8.7</td>\n",
       "      <td>-11.5</td>\n",
       "      <td>-0.2</td>\n",
       "      <td>10.1</td>\n",
       "      <td>5.7</td>\n",
       "      <td>11.4</td>\n",
       "    </tr>\n",
       "    <tr>\n",
       "      <th>16</th>\n",
       "      <td>5.2</td>\n",
       "      <td>-3.5</td>\n",
       "      <td>5.2</td>\n",
       "      <td>5.2</td>\n",
       "      <td>3.8</td>\n",
       "      <td>9.9</td>\n",
       "      <td>5.4</td>\n",
       "      <td>11.4</td>\n",
       "      <td>9.2</td>\n",
       "      <td>-9.5</td>\n",
       "      <td>5.2</td>\n",
       "      <td>9.9</td>\n",
       "      <td>6.6</td>\n",
       "      <td>10.1</td>\n",
       "    </tr>\n",
       "    <tr>\n",
       "      <th>17</th>\n",
       "      <td>4.9</td>\n",
       "      <td>-2.6</td>\n",
       "      <td>5.9</td>\n",
       "      <td>5.6</td>\n",
       "      <td>3.9</td>\n",
       "      <td>5.9</td>\n",
       "      <td>7.9</td>\n",
       "      <td>5.2</td>\n",
       "      <td>12.3</td>\n",
       "      <td>-10.8</td>\n",
       "      <td>7.4</td>\n",
       "      <td>3.7</td>\n",
       "      <td>5.5</td>\n",
       "      <td>7.2</td>\n",
       "    </tr>\n",
       "    <tr>\n",
       "      <th>18</th>\n",
       "      <td>6.6</td>\n",
       "      <td>3.9</td>\n",
       "      <td>3.7</td>\n",
       "      <td>3.5</td>\n",
       "      <td>0.6</td>\n",
       "      <td>17.6</td>\n",
       "      <td>13.7</td>\n",
       "      <td>19.6</td>\n",
       "      <td>10.3</td>\n",
       "      <td>6.5</td>\n",
       "      <td>0.9</td>\n",
       "      <td>15.7</td>\n",
       "      <td>7.2</td>\n",
       "      <td>10.2</td>\n",
       "    </tr>\n",
       "    <tr>\n",
       "      <th>19</th>\n",
       "      <td>5.7</td>\n",
       "      <td>7.8</td>\n",
       "      <td>3.1</td>\n",
       "      <td>2.8</td>\n",
       "      <td>4</td>\n",
       "      <td>9.7</td>\n",
       "      <td>8.9</td>\n",
       "      <td>10</td>\n",
       "      <td>10.4</td>\n",
       "      <td>9</td>\n",
       "      <td>-8.7</td>\n",
       "      <td>9.7</td>\n",
       "      <td>6.6</td>\n",
       "      <td>10.1</td>\n",
       "    </tr>\n",
       "    <tr>\n",
       "      <th>20</th>\n",
       "      <td>8.7</td>\n",
       "      <td>8.8</td>\n",
       "      <td>9.2</td>\n",
       "      <td>9.4</td>\n",
       "      <td>1.8</td>\n",
       "      <td>9.6</td>\n",
       "      <td>6.6</td>\n",
       "      <td>9.4</td>\n",
       "      <td>11.5</td>\n",
       "      <td>-3.4</td>\n",
       "      <td>-16.4</td>\n",
       "      <td>10.9</td>\n",
       "      <td>6.5</td>\n",
       "      <td>1.1</td>\n",
       "    </tr>\n",
       "    <tr>\n",
       "      <th>21</th>\n",
       "      <td>2.7</td>\n",
       "      <td>-7.2</td>\n",
       "      <td>15.9</td>\n",
       "      <td>17</td>\n",
       "      <td>-39.2</td>\n",
       "      <td>-15.2</td>\n",
       "      <td>-12.8</td>\n",
       "      <td>-16.1</td>\n",
       "      <td>15.9</td>\n",
       "      <td>-30.3</td>\n",
       "      <td>-24.5</td>\n",
       "      <td>-16.1</td>\n",
       "      <td>-2.8</td>\n",
       "      <td>-20.7</td>\n",
       "    </tr>\n",
       "    <tr>\n",
       "      <th>22</th>\n",
       "      <td>-14</td>\n",
       "      <td>-32.4</td>\n",
       "      <td>10.5</td>\n",
       "      <td>11.7</td>\n",
       "      <td>-80.7</td>\n",
       "      <td>-38.8</td>\n",
       "      <td>-43.1</td>\n",
       "      <td>-36.8</td>\n",
       "      <td>-9.9</td>\n",
       "      <td>-68.7</td>\n",
       "      <td>-47.6</td>\n",
       "      <td>-43.5</td>\n",
       "      <td>-23.8</td>\n",
       "      <td>-57.3</td>\n",
       "    </tr>\n",
       "    <tr>\n",
       "      <th>23</th>\n",
       "      <td>-5.2</td>\n",
       "      <td>-33.6</td>\n",
       "      <td>16.3</td>\n",
       "      <td>17.9</td>\n",
       "      <td>-62.5</td>\n",
       "      <td>-9.9</td>\n",
       "      <td>-18.4</td>\n",
       "      <td>-6</td>\n",
       "      <td>-4.5</td>\n",
       "      <td>-65.2</td>\n",
       "      <td>-38.5</td>\n",
       "      <td>-17.5</td>\n",
       "      <td>-12.1</td>\n",
       "      <td>-37.9</td>\n",
       "    </tr>\n",
       "  </tbody>\n",
       "</table>\n",
       "</div>"
      ],
      "text/plain": [
       "0  Receita de vendas do comércio varejista (5)  \\\n",
       "0                                          5.3   \n",
       "1                                          2.9   \n",
       "2                                          7.6   \n",
       "3                                          4.2   \n",
       "4                                          6.7   \n",
       "5                                          8.4   \n",
       "6                                          3.9   \n",
       "7                                          4.7   \n",
       "8                                          7.5   \n",
       "9                                          0.2   \n",
       "10                                         7.3   \n",
       "11                                         5.8   \n",
       "12                                         2.8   \n",
       "13                                         6.6   \n",
       "14                                         3.9   \n",
       "15                                         3.6   \n",
       "16                                         5.2   \n",
       "17                                         4.9   \n",
       "18                                         6.6   \n",
       "19                                         5.7   \n",
       "20                                         8.7   \n",
       "21                                         2.7   \n",
       "22                                         -14   \n",
       "23                                        -5.2   \n",
       "\n",
       "0  1. Combustíveis e lubrificantes  \\\n",
       "0                             13.3   \n",
       "1                             13.9   \n",
       "2                             11.7   \n",
       "3                             11.7   \n",
       "4                             13.1   \n",
       "5                              9.3   \n",
       "6                              5.8   \n",
       "7                              2.4   \n",
       "8                              2.4   \n",
       "9                             -1.5   \n",
       "10                             2.2   \n",
       "11                             6.5   \n",
       "12                             1.8   \n",
       "13                             1.5   \n",
       "14                            -4.4   \n",
       "15                            -5.5   \n",
       "16                            -3.5   \n",
       "17                            -2.6   \n",
       "18                             3.9   \n",
       "19                             7.8   \n",
       "20                             8.8   \n",
       "21                            -7.2   \n",
       "22                           -32.4   \n",
       "23                           -33.6   \n",
       "\n",
       "0  2. Hipermercados, supermercados, produtos alimentícios bebidas e fumo  \\\n",
       "0                                                 5.1                      \n",
       "1                                                 2.7                      \n",
       "2                                                 8.2                      \n",
       "3                                                 3.7                      \n",
       "4                                                 6.1                      \n",
       "5                                                 7.6                      \n",
       "6                                                 5.9                      \n",
       "7                                                 6.5                      \n",
       "8                                                 7.4                      \n",
       "9                                                 1.5                      \n",
       "10                                                9.7                      \n",
       "11                                                5.7                      \n",
       "12                                                4.7                      \n",
       "13                                                5.9                      \n",
       "14                                                6.3                      \n",
       "15                                                3.3                      \n",
       "16                                                5.2                      \n",
       "17                                                5.9                      \n",
       "18                                                3.7                      \n",
       "19                                                3.1                      \n",
       "20                                                9.2                      \n",
       "21                                               15.9                      \n",
       "22                                               10.5                      \n",
       "23                                               16.3                      \n",
       "\n",
       "0  2.1. Hipermercados e supermercados 3. Tecidos, vestuário e calçados  \\\n",
       "0                                   5                             -2.7   \n",
       "1                                 2.7                             -7.1   \n",
       "2                                 8.9                              4.2   \n",
       "3                                 3.9                              2.3   \n",
       "4                                 5.9                              4.9   \n",
       "5                                 7.9                                5   \n",
       "6                                   6                             -0.9   \n",
       "7                                 6.8                             -0.9   \n",
       "8                                 7.6                             11.5   \n",
       "9                                 1.7                               -4   \n",
       "10                               10.2                             -2.5   \n",
       "11                                5.8                             -0.7   \n",
       "12                                4.8                             -0.9   \n",
       "13                                  6                              7.5   \n",
       "14                                6.5                             -2.3   \n",
       "15                                3.4                             -0.4   \n",
       "16                                5.2                              3.8   \n",
       "17                                5.6                              3.9   \n",
       "18                                3.5                              0.6   \n",
       "19                                2.8                                4   \n",
       "20                                9.4                              1.8   \n",
       "21                                 17                            -39.2   \n",
       "22                               11.7                            -80.7   \n",
       "23                               17.9                            -62.5   \n",
       "\n",
       "0  4. Móveis e eletrodomésticos 4.1. Móveis 4.2. Eletrodomésticos  \\\n",
       "0                          -0.4           1                    -1   \n",
       "1                          -7.5        -5.3                  -8.6   \n",
       "2                          -2.6        -1.7                    -3   \n",
       "3                          -2.4        -1.7                  -2.7   \n",
       "4                          -0.5         1.2                  -1.3   \n",
       "5                           4.5         2.1                   5.5   \n",
       "6                          -1.8        -2.9                  -1.3   \n",
       "7                           1.2         2.7                   0.6   \n",
       "8                           7.1        10.6                   5.6   \n",
       "9                          -0.8         0.4                  -1.3   \n",
       "10                          4.2         8.7                   2.6   \n",
       "11                         10.5        19.4                   7.1   \n",
       "12                         -2.8           2                  -4.8   \n",
       "13                         11.8        12.4                  11.3   \n",
       "14                          2.9         6.6                   1.4   \n",
       "15                         10.9        11.3                  10.9   \n",
       "16                          9.9         5.4                  11.4   \n",
       "17                          5.9         7.9                   5.2   \n",
       "18                         17.6        13.7                  19.6   \n",
       "19                          9.7         8.9                    10   \n",
       "20                          9.6         6.6                   9.4   \n",
       "21                        -15.2       -12.8                 -16.1   \n",
       "22                        -38.8       -43.1                 -36.8   \n",
       "23                         -9.9       -18.4                    -6   \n",
       "\n",
       "0  5. Artigos farmacêuticos, médicos, ortopédicos, de perfumaria e cosméticos  \\\n",
       "0                                                 6.7                           \n",
       "1                                                 7.4                           \n",
       "2                                                 9.6                           \n",
       "3                                                 4.3                           \n",
       "4                                                 8.8                           \n",
       "5                                                 9.1                           \n",
       "6                                                 8.1                           \n",
       "7                                                 7.8                           \n",
       "8                                                10.9                           \n",
       "9                                                 4.5                           \n",
       "10                                                5.6                           \n",
       "11                                                9.9                           \n",
       "12                                                7.3                           \n",
       "13                                               10.7                           \n",
       "14                                                6.9                           \n",
       "15                                                8.7                           \n",
       "16                                                9.2                           \n",
       "17                                               12.3                           \n",
       "18                                               10.3                           \n",
       "19                                               10.4                           \n",
       "20                                               11.5                           \n",
       "21                                               15.9                           \n",
       "22                                               -9.9                           \n",
       "23                                               -4.5                           \n",
       "\n",
       "0  6. Livros, jornais, revistas e papelaria  \\\n",
       "0                                      -9.1   \n",
       "1                                      -7.9   \n",
       "2                                      -9.7   \n",
       "3                                     -12.8   \n",
       "4                                     -26.8   \n",
       "5                                     -29.2   \n",
       "6                                     -20.9   \n",
       "7                                     -25.8   \n",
       "8                                     -20.5   \n",
       "9                                     -33.4   \n",
       "10                                    -21.8   \n",
       "11                                    -12.4   \n",
       "12                                    -22.1   \n",
       "13                                    -13.1   \n",
       "14                                    -11.9   \n",
       "15                                    -11.5   \n",
       "16                                     -9.5   \n",
       "17                                    -10.8   \n",
       "18                                      6.5   \n",
       "19                                        9   \n",
       "20                                     -3.4   \n",
       "21                                    -30.3   \n",
       "22                                    -68.7   \n",
       "23                                    -65.2   \n",
       "\n",
       "0  7. Equipamentos e materiais para escritório, informática e comunicação  \\\n",
       "0                                                -5.7                       \n",
       "1                                                -6.7                       \n",
       "2                                                 0.5                       \n",
       "3                                                -3.2                       \n",
       "4                                                 1.9                       \n",
       "5                                                 1.5                       \n",
       "6                                                -3.5                       \n",
       "7                                                 2.9                       \n",
       "8                                                 5.3                       \n",
       "9                                                 2.1                       \n",
       "10                                               -1.3                       \n",
       "11                                                7.6                       \n",
       "12                                               -7.2                       \n",
       "13                                               -0.1                       \n",
       "14                                                 -3                       \n",
       "15                                               -0.2                       \n",
       "16                                                5.2                       \n",
       "17                                                7.4                       \n",
       "18                                                0.9                       \n",
       "19                                               -8.7                       \n",
       "20                                              -16.4                       \n",
       "21                                              -24.5                       \n",
       "22                                              -47.6                       \n",
       "23                                              -38.5                       \n",
       "\n",
       "0  8. Outros artigos de uso pessoal e doméstico  \\\n",
       "0                                           9.5   \n",
       "1                                           5.7   \n",
       "2                                          10.9   \n",
       "3                                           5.3   \n",
       "4                                           9.4   \n",
       "5                                          17.6   \n",
       "6                                           2.8   \n",
       "7                                           6.8   \n",
       "8                                          11.9   \n",
       "9                                          -1.5   \n",
       "10                                         15.3   \n",
       "11                                          4.2   \n",
       "12                                          0.9   \n",
       "13                                          9.6   \n",
       "14                                          6.2   \n",
       "15                                         10.1   \n",
       "16                                          9.9   \n",
       "17                                          3.7   \n",
       "18                                         15.7   \n",
       "19                                          9.7   \n",
       "20                                         10.9   \n",
       "21                                        -16.1   \n",
       "22                                        -43.5   \n",
       "23                                        -17.5   \n",
       "\n",
       "0  Receita de vendas do comércio varejista ampliado (6)  \\\n",
       "0                                                 6.7     \n",
       "1                                                 5.8     \n",
       "2                                                 9.7     \n",
       "3                                                 5.6     \n",
       "4                                                 9.9     \n",
       "5                                                 9.2     \n",
       "6                                                 4.5     \n",
       "7                                                 5.8     \n",
       "8                                                10.4     \n",
       "9                                                 0.3     \n",
       "10                                                7.5     \n",
       "11                                                 10     \n",
       "12                                                4.2     \n",
       "13                                                9.5     \n",
       "14                                                3.7     \n",
       "15                                                5.7     \n",
       "16                                                6.6     \n",
       "17                                                5.5     \n",
       "18                                                7.2     \n",
       "19                                                6.6     \n",
       "20                                                6.5     \n",
       "21                                               -2.8     \n",
       "22                                              -23.8     \n",
       "23                                              -12.1     \n",
       "\n",
       "0  9. Veículos, motocicletas, partes e peças  \n",
       "0                                         11  \n",
       "1                                       17.2  \n",
       "2                                       16.9  \n",
       "3                                       12.6  \n",
       "4                                       21.3  \n",
       "5                                         14  \n",
       "6                                        7.8  \n",
       "7                                        9.6  \n",
       "8                                       20.1  \n",
       "9                                       -0.5  \n",
       "10                                       7.8  \n",
       "11                                      23.2  \n",
       "12                                      10.6  \n",
       "13                                      18.4  \n",
       "14                                       3.9  \n",
       "15                                      11.4  \n",
       "16                                      10.1  \n",
       "17                                       7.2  \n",
       "18                                      10.2  \n",
       "19                                      10.1  \n",
       "20                                       1.1  \n",
       "21                                     -20.7  \n",
       "22                                     -57.3  \n",
       "23                                     -37.9  "
      ]
     },
     "execution_count": 33,
     "metadata": {},
     "output_type": "execute_result"
    }
   ],
   "source": [
    "dataset"
   ]
  },
  {
   "cell_type": "markdown",
   "metadata": {},
   "source": [
    "### Visualizando informações do dataset"
   ]
  },
  {
   "cell_type": "code",
   "execution_count": 34,
   "metadata": {
    "scrolled": false
   },
   "outputs": [
    {
     "name": "stdout",
     "output_type": "stream",
     "text": [
      "<class 'pandas.core.frame.DataFrame'>\n",
      "RangeIndex: 24 entries, 0 to 23\n",
      "Data columns (total 14 columns):\n",
      " #   Column                                                                      Non-Null Count  Dtype \n",
      "---  ------                                                                      --------------  ----- \n",
      " 0   Receita de vendas do comércio varejista (5)                                 24 non-null     object\n",
      " 1   1. Combustíveis e lubrificantes                                             24 non-null     object\n",
      " 2   2. Hipermercados, supermercados, produtos alimentícios bebidas e fumo       24 non-null     object\n",
      " 3   2.1. Hipermercados e supermercados                                          24 non-null     object\n",
      " 4   3. Tecidos, vestuário e calçados                                            24 non-null     object\n",
      " 5   4. Móveis e eletrodomésticos                                                24 non-null     object\n",
      " 6   4.1. Móveis                                                                 24 non-null     object\n",
      " 7   4.2. Eletrodomésticos                                                       24 non-null     object\n",
      " 8   5. Artigos farmacêuticos, médicos, ortopédicos, de perfumaria e cosméticos  24 non-null     object\n",
      " 9   6. Livros, jornais, revistas e papelaria                                    24 non-null     object\n",
      " 10  7. Equipamentos e materiais para escritório, informática e comunicação      24 non-null     object\n",
      " 11  8. Outros artigos de uso pessoal e doméstico                                24 non-null     object\n",
      " 12  Receita de vendas do comércio varejista ampliado (6)                        24 non-null     object\n",
      " 13  9. Veículos, motocicletas, partes e peças                                   24 non-null     object\n",
      "dtypes: object(14)\n",
      "memory usage: 2.8+ KB\n"
     ]
    }
   ],
   "source": [
    "dataset.info()"
   ]
  },
  {
   "cell_type": "markdown",
   "metadata": {},
   "source": [
    "### Removendo as colunas de valores agrupados de setores, que não fazem sentido para essa análise"
   ]
  },
  {
   "cell_type": "code",
   "execution_count": 35,
   "metadata": {},
   "outputs": [],
   "source": [
    "drop = ['Receita de vendas do comércio varejista (5)', 'Receita de vendas do comércio varejista ampliado (6)'] \n",
    "dataset.drop(columns=drop,axis=1,inplace=True)"
   ]
  },
  {
   "cell_type": "markdown",
   "metadata": {},
   "source": [
    "### Convertendo os dados numéricos"
   ]
  },
  {
   "cell_type": "code",
   "execution_count": 36,
   "metadata": {},
   "outputs": [],
   "source": [
    "dataset = dataset.apply(pd.to_numeric, errors='coerce')"
   ]
  },
  {
   "cell_type": "markdown",
   "metadata": {},
   "source": [
    "### Resumo estatístico do DataFrame"
   ]
  },
  {
   "cell_type": "code",
   "execution_count": 37,
   "metadata": {
    "scrolled": true
   },
   "outputs": [
    {
     "data": {
      "text/html": [
       "<div>\n",
       "<style scoped>\n",
       "    .dataframe tbody tr th:only-of-type {\n",
       "        vertical-align: middle;\n",
       "    }\n",
       "\n",
       "    .dataframe tbody tr th {\n",
       "        vertical-align: top;\n",
       "    }\n",
       "\n",
       "    .dataframe thead th {\n",
       "        text-align: right;\n",
       "    }\n",
       "</style>\n",
       "<table border=\"1\" class=\"dataframe\">\n",
       "  <thead>\n",
       "    <tr style=\"text-align: right;\">\n",
       "      <th></th>\n",
       "      <th>count</th>\n",
       "      <th>mean</th>\n",
       "      <th>std</th>\n",
       "      <th>min</th>\n",
       "      <th>25%</th>\n",
       "      <th>50%</th>\n",
       "      <th>75%</th>\n",
       "      <th>max</th>\n",
       "    </tr>\n",
       "    <tr>\n",
       "      <th>0</th>\n",
       "      <th></th>\n",
       "      <th></th>\n",
       "      <th></th>\n",
       "      <th></th>\n",
       "      <th></th>\n",
       "      <th></th>\n",
       "      <th></th>\n",
       "      <th></th>\n",
       "    </tr>\n",
       "  </thead>\n",
       "  <tbody>\n",
       "    <tr>\n",
       "      <th>1. Combustíveis e lubrificantes</th>\n",
       "      <td>24.0</td>\n",
       "      <td>1.058333</td>\n",
       "      <td>12.207906</td>\n",
       "      <td>-33.6</td>\n",
       "      <td>-2.825</td>\n",
       "      <td>2.40</td>\n",
       "      <td>8.925</td>\n",
       "      <td>13.9</td>\n",
       "    </tr>\n",
       "    <tr>\n",
       "      <th>2. Hipermercados, supermercados, produtos alimentícios bebidas e fumo</th>\n",
       "      <td>24.0</td>\n",
       "      <td>6.670833</td>\n",
       "      <td>3.658638</td>\n",
       "      <td>1.5</td>\n",
       "      <td>4.450</td>\n",
       "      <td>5.90</td>\n",
       "      <td>7.750</td>\n",
       "      <td>16.3</td>\n",
       "    </tr>\n",
       "    <tr>\n",
       "      <th>2.1. Hipermercados e supermercados</th>\n",
       "      <td>24.0</td>\n",
       "      <td>6.925000</td>\n",
       "      <td>4.062367</td>\n",
       "      <td>1.7</td>\n",
       "      <td>4.575</td>\n",
       "      <td>5.95</td>\n",
       "      <td>8.150</td>\n",
       "      <td>17.9</td>\n",
       "    </tr>\n",
       "    <tr>\n",
       "      <th>3. Tecidos, vestuário e calçados</th>\n",
       "      <td>24.0</td>\n",
       "      <td>-6.470833</td>\n",
       "      <td>22.212873</td>\n",
       "      <td>-80.7</td>\n",
       "      <td>-2.550</td>\n",
       "      <td>-0.55</td>\n",
       "      <td>3.925</td>\n",
       "      <td>11.5</td>\n",
       "    </tr>\n",
       "    <tr>\n",
       "      <th>4. Móveis e eletrodomésticos</th>\n",
       "      <td>24.0</td>\n",
       "      <td>0.962500</td>\n",
       "      <td>11.398772</td>\n",
       "      <td>-38.8</td>\n",
       "      <td>-2.450</td>\n",
       "      <td>2.05</td>\n",
       "      <td>9.625</td>\n",
       "      <td>17.6</td>\n",
       "    </tr>\n",
       "    <tr>\n",
       "      <th>4.1. Móveis</th>\n",
       "      <td>24.0</td>\n",
       "      <td>1.458333</td>\n",
       "      <td>12.616412</td>\n",
       "      <td>-43.1</td>\n",
       "      <td>-1.700</td>\n",
       "      <td>2.40</td>\n",
       "      <td>8.750</td>\n",
       "      <td>19.4</td>\n",
       "    </tr>\n",
       "    <tr>\n",
       "      <th>4.2. Eletrodomésticos</th>\n",
       "      <td>24.0</td>\n",
       "      <td>0.737500</td>\n",
       "      <td>11.137239</td>\n",
       "      <td>-36.8</td>\n",
       "      <td>-2.775</td>\n",
       "      <td>1.00</td>\n",
       "      <td>7.675</td>\n",
       "      <td>19.6</td>\n",
       "    </tr>\n",
       "    <tr>\n",
       "      <th>5. Artigos farmacêuticos, médicos, ortopédicos, de perfumaria e cosméticos</th>\n",
       "      <td>24.0</td>\n",
       "      <td>7.562500</td>\n",
       "      <td>5.264385</td>\n",
       "      <td>-9.9</td>\n",
       "      <td>6.850</td>\n",
       "      <td>8.75</td>\n",
       "      <td>10.325</td>\n",
       "      <td>15.9</td>\n",
       "    </tr>\n",
       "    <tr>\n",
       "      <th>6. Livros, jornais, revistas e papelaria</th>\n",
       "      <td>24.0</td>\n",
       "      <td>-19.220833</td>\n",
       "      <td>18.104911</td>\n",
       "      <td>-68.7</td>\n",
       "      <td>-26.050</td>\n",
       "      <td>-12.95</td>\n",
       "      <td>-9.650</td>\n",
       "      <td>9.0</td>\n",
       "    </tr>\n",
       "    <tr>\n",
       "      <th>7. Equipamentos e materiais para escritório, informática e comunicação</th>\n",
       "      <td>24.0</td>\n",
       "      <td>-5.470833</td>\n",
       "      <td>13.711990</td>\n",
       "      <td>-47.6</td>\n",
       "      <td>-6.825</td>\n",
       "      <td>-0.75</td>\n",
       "      <td>1.950</td>\n",
       "      <td>7.6</td>\n",
       "    </tr>\n",
       "    <tr>\n",
       "      <th>8. Outros artigos de uso pessoal e doméstico</th>\n",
       "      <td>24.0</td>\n",
       "      <td>4.062500</td>\n",
       "      <td>13.160475</td>\n",
       "      <td>-43.5</td>\n",
       "      <td>3.475</td>\n",
       "      <td>8.10</td>\n",
       "      <td>10.300</td>\n",
       "      <td>17.6</td>\n",
       "    </tr>\n",
       "    <tr>\n",
       "      <th>9. Veículos, motocicletas, partes e peças</th>\n",
       "      <td>24.0</td>\n",
       "      <td>5.337500</td>\n",
       "      <td>18.753430</td>\n",
       "      <td>-57.3</td>\n",
       "      <td>6.375</td>\n",
       "      <td>10.15</td>\n",
       "      <td>14.725</td>\n",
       "      <td>23.2</td>\n",
       "    </tr>\n",
       "  </tbody>\n",
       "</table>\n",
       "</div>"
      ],
      "text/plain": [
       "                                                    count       mean  \\\n",
       "0                                                                      \n",
       "1. Combustíveis e lubrificantes                      24.0   1.058333   \n",
       "2. Hipermercados, supermercados, produtos alime...   24.0   6.670833   \n",
       "2.1. Hipermercados e supermercados                   24.0   6.925000   \n",
       "3. Tecidos, vestuário e calçados                     24.0  -6.470833   \n",
       "4. Móveis e eletrodomésticos                         24.0   0.962500   \n",
       "4.1. Móveis                                          24.0   1.458333   \n",
       "4.2. Eletrodomésticos                                24.0   0.737500   \n",
       "5. Artigos farmacêuticos, médicos, ortopédicos,...   24.0   7.562500   \n",
       "6. Livros, jornais, revistas e papelaria             24.0 -19.220833   \n",
       "7. Equipamentos e materiais para escritório, in...   24.0  -5.470833   \n",
       "8. Outros artigos de uso pessoal e doméstico         24.0   4.062500   \n",
       "9. Veículos, motocicletas, partes e peças            24.0   5.337500   \n",
       "\n",
       "                                                          std   min     25%  \\\n",
       "0                                                                             \n",
       "1. Combustíveis e lubrificantes                     12.207906 -33.6  -2.825   \n",
       "2. Hipermercados, supermercados, produtos alime...   3.658638   1.5   4.450   \n",
       "2.1. Hipermercados e supermercados                   4.062367   1.7   4.575   \n",
       "3. Tecidos, vestuário e calçados                    22.212873 -80.7  -2.550   \n",
       "4. Móveis e eletrodomésticos                        11.398772 -38.8  -2.450   \n",
       "4.1. Móveis                                         12.616412 -43.1  -1.700   \n",
       "4.2. Eletrodomésticos                               11.137239 -36.8  -2.775   \n",
       "5. Artigos farmacêuticos, médicos, ortopédicos,...   5.264385  -9.9   6.850   \n",
       "6. Livros, jornais, revistas e papelaria            18.104911 -68.7 -26.050   \n",
       "7. Equipamentos e materiais para escritório, in...  13.711990 -47.6  -6.825   \n",
       "8. Outros artigos de uso pessoal e doméstico        13.160475 -43.5   3.475   \n",
       "9. Veículos, motocicletas, partes e peças           18.753430 -57.3   6.375   \n",
       "\n",
       "                                                      50%     75%   max  \n",
       "0                                                                        \n",
       "1. Combustíveis e lubrificantes                      2.40   8.925  13.9  \n",
       "2. Hipermercados, supermercados, produtos alime...   5.90   7.750  16.3  \n",
       "2.1. Hipermercados e supermercados                   5.95   8.150  17.9  \n",
       "3. Tecidos, vestuário e calçados                    -0.55   3.925  11.5  \n",
       "4. Móveis e eletrodomésticos                         2.05   9.625  17.6  \n",
       "4.1. Móveis                                          2.40   8.750  19.4  \n",
       "4.2. Eletrodomésticos                                1.00   7.675  19.6  \n",
       "5. Artigos farmacêuticos, médicos, ortopédicos,...   8.75  10.325  15.9  \n",
       "6. Livros, jornais, revistas e papelaria           -12.95  -9.650   9.0  \n",
       "7. Equipamentos e materiais para escritório, in...  -0.75   1.950   7.6  \n",
       "8. Outros artigos de uso pessoal e doméstico         8.10  10.300  17.6  \n",
       "9. Veículos, motocicletas, partes e peças           10.15  14.725  23.2  "
      ]
     },
     "execution_count": 37,
     "metadata": {},
     "output_type": "execute_result"
    }
   ],
   "source": [
    "dataset.describe().T"
   ]
  },
  {
   "cell_type": "markdown",
   "metadata": {},
   "source": [
    "### Analisando os gráficos por setor"
   ]
  },
  {
   "cell_type": "code",
   "execution_count": 38,
   "metadata": {
    "scrolled": false
   },
   "outputs": [
    {
     "data": {
      "image/png": "[encoded data removed]",
      "text/plain": [
       "<Figure size 1152x1296 with 10 Axes>"
      ]
     },
     "metadata": {
      "needs_background": "light"
     },
     "output_type": "display_data"
    }
   ],
   "source": [
    "# importando o matplotlib\n",
    "import matplotlib.pyplot as plt\n",
    "\n",
    "# Incluindo o periodo de acordo com as datas dos arquivos\n",
    "periodo = ['06/2018', '07/2018', '08/2018', '09/2018', '10/2018', '11/2018', '12/2018','01/2019', '02/2019', '03/2019','04/2019', '05/2019', '06/2019', '07/2019', '08/2019', '09/2019', '10/2019', '11/2019', '12/2019', '01/2020', '02/2020', '03/2020','04/2020', '05/2020']\n",
    "dataset['periodo'] = periodo\n",
    "\n",
    "# ajustando o dataset para criar uma coluna do tipo \"data\" \n",
    "dataset['periodo'] = pd.to_datetime(dataset['periodo'])\n",
    "\n",
    "plt.figure(figsize=(16, 18))\n",
    "\n",
    "plt.subplot(5, 2, 1)\n",
    "plt.plot(dataset['periodo'], dataset['1. Combustíveis e lubrificantes'])\n",
    "plt.title('1. Combustíveis e lubrificantes')\n",
    "plt.xlabel('Periodo')\n",
    "plt.ylabel('Indice IBGE')\n",
    "\n",
    "plt.subplot(5, 2, 2)\n",
    "plt.plot(dataset['periodo'], dataset['2.1. Hipermercados e supermercados'])\n",
    "plt.title('2.1. Hipermercados e supermercados')\n",
    "\n",
    "plt.subplot(5, 2, 3)\n",
    "plt.plot(dataset['periodo'], dataset['3. Tecidos, vestuário e calçados'])\n",
    "plt.title('3. Tecidos, vestuário e calçados')\n",
    "\n",
    "plt.subplot(5, 2, 4)\n",
    "plt.plot(dataset['periodo'], dataset['4.1. Móveis'])\n",
    "plt.title('4.1. Móveis')\n",
    "\n",
    "plt.subplot(5, 2, 5)\n",
    "plt.plot(dataset['periodo'], dataset['4.2. Eletrodomésticos'])\n",
    "plt.title('4.2. Eletrodomésticos')\n",
    "\n",
    "plt.subplot(5, 2, 6)\n",
    "plt.plot(dataset['periodo'], dataset['5. Artigos farmacêuticos, médicos, ortopédicos, de perfumaria e cosméticos'])\n",
    "plt.title('5. Artigos farmacêuticos, médicos, ortopédicos, de perfumaria e cosméticos')\n",
    "\n",
    "plt.subplot(5, 2, 7)\n",
    "plt.plot(dataset['periodo'], dataset['6. Livros, jornais, revistas e papelaria'])\n",
    "plt.title('6. Livros, jornais, revistas e papelaria')\n",
    "\n",
    "plt.subplot(5, 2, 8)\n",
    "plt.plot(dataset['periodo'], dataset['7. Equipamentos e materiais para escritório, informática e comunicação'])\n",
    "plt.title('7. Equipamentos e materiais para escritório, informática e comunicação')\n",
    "\n",
    "plt.subplot(5, 2, 9)\n",
    "plt.plot(dataset['periodo'], dataset['8. Outros artigos de uso pessoal e doméstico'])\n",
    "plt.title('8. Outros artigos de uso pessoal e doméstico')\n",
    " \n",
    "plt.subplot(5, 2, 10)\n",
    "plt.plot(dataset['periodo'], dataset['9. Veículos, motocicletas, partes e peças'])\n",
    "plt.title('9. Veículos, motocicletas, partes e peças')\n",
    "\n",
    "plt.show()"
   ]
  },
  {
   "cell_type": "markdown",
   "metadata": {},
   "source": [
    "### Analisando as correlações"
   ]
  },
  {
   "cell_type": "code",
   "execution_count": 39,
   "metadata": {
    "scrolled": false
   },
   "outputs": [
    {
     "data": {
      "text/html": [
       "<style  type=\"text/css\" >\n",
       "    #T_984604e2_d528_11ea_9424_ecf4bbfabc65row0_col0 {\n",
       "            background-color:  #b40426;\n",
       "            color:  #f1f1f1;\n",
       "        }    #T_984604e2_d528_11ea_9424_ecf4bbfabc65row0_col1 {\n",
       "            background-color:  #4961d2;\n",
       "            color:  #f1f1f1;\n",
       "        }    #T_984604e2_d528_11ea_9424_ecf4bbfabc65row0_col2 {\n",
       "            background-color:  #4961d2;\n",
       "            color:  #f1f1f1;\n",
       "        }    #T_984604e2_d528_11ea_9424_ecf4bbfabc65row0_col3 {\n",
       "            background-color:  #d44e41;\n",
       "            color:  #000000;\n",
       "        }    #T_984604e2_d528_11ea_9424_ecf4bbfabc65row0_col4 {\n",
       "            background-color:  #f7ac8e;\n",
       "            color:  #000000;\n",
       "        }    #T_984604e2_d528_11ea_9424_ecf4bbfabc65row0_col5 {\n",
       "            background-color:  #f39475;\n",
       "            color:  #000000;\n",
       "        }    #T_984604e2_d528_11ea_9424_ecf4bbfabc65row0_col6 {\n",
       "            background-color:  #f6bda2;\n",
       "            color:  #000000;\n",
       "        }    #T_984604e2_d528_11ea_9424_ecf4bbfabc65row0_col7 {\n",
       "            background-color:  #f59d7e;\n",
       "            color:  #000000;\n",
       "        }    #T_984604e2_d528_11ea_9424_ecf4bbfabc65row0_col8 {\n",
       "            background-color:  #e26952;\n",
       "            color:  #000000;\n",
       "        }    #T_984604e2_d528_11ea_9424_ecf4bbfabc65row0_col9 {\n",
       "            background-color:  #e7745b;\n",
       "            color:  #000000;\n",
       "        }    #T_984604e2_d528_11ea_9424_ecf4bbfabc65row0_col10 {\n",
       "            background-color:  #df634e;\n",
       "            color:  #000000;\n",
       "        }    #T_984604e2_d528_11ea_9424_ecf4bbfabc65row0_col11 {\n",
       "            background-color:  #cf453c;\n",
       "            color:  #f1f1f1;\n",
       "        }    #T_984604e2_d528_11ea_9424_ecf4bbfabc65row1_col0 {\n",
       "            background-color:  #3f53c6;\n",
       "            color:  #f1f1f1;\n",
       "        }    #T_984604e2_d528_11ea_9424_ecf4bbfabc65row1_col1 {\n",
       "            background-color:  #b40426;\n",
       "            color:  #f1f1f1;\n",
       "        }    #T_984604e2_d528_11ea_9424_ecf4bbfabc65row1_col2 {\n",
       "            background-color:  #b40426;\n",
       "            color:  #f1f1f1;\n",
       "        }    #T_984604e2_d528_11ea_9424_ecf4bbfabc65row1_col3 {\n",
       "            background-color:  #3f53c6;\n",
       "            color:  #f1f1f1;\n",
       "        }    #T_984604e2_d528_11ea_9424_ecf4bbfabc65row1_col4 {\n",
       "            background-color:  #4055c8;\n",
       "            color:  #f1f1f1;\n",
       "        }    #T_984604e2_d528_11ea_9424_ecf4bbfabc65row1_col5 {\n",
       "            background-color:  #4055c8;\n",
       "            color:  #f1f1f1;\n",
       "        }    #T_984604e2_d528_11ea_9424_ecf4bbfabc65row1_col6 {\n",
       "            background-color:  #4055c8;\n",
       "            color:  #f1f1f1;\n",
       "        }    #T_984604e2_d528_11ea_9424_ecf4bbfabc65row1_col7 {\n",
       "            background-color:  #445acc;\n",
       "            color:  #f1f1f1;\n",
       "        }    #T_984604e2_d528_11ea_9424_ecf4bbfabc65row1_col8 {\n",
       "            background-color:  #3f53c6;\n",
       "            color:  #f1f1f1;\n",
       "        }    #T_984604e2_d528_11ea_9424_ecf4bbfabc65row1_col9 {\n",
       "            background-color:  #3e51c5;\n",
       "            color:  #f1f1f1;\n",
       "        }    #T_984604e2_d528_11ea_9424_ecf4bbfabc65row1_col10 {\n",
       "            background-color:  #4055c8;\n",
       "            color:  #f1f1f1;\n",
       "        }    #T_984604e2_d528_11ea_9424_ecf4bbfabc65row1_col11 {\n",
       "            background-color:  #3f53c6;\n",
       "            color:  #f1f1f1;\n",
       "        }    #T_984604e2_d528_11ea_9424_ecf4bbfabc65row2_col0 {\n",
       "            background-color:  #3b4cc0;\n",
       "            color:  #f1f1f1;\n",
       "        }    #T_984604e2_d528_11ea_9424_ecf4bbfabc65row2_col1 {\n",
       "            background-color:  #b40426;\n",
       "            color:  #f1f1f1;\n",
       "        }    #T_984604e2_d528_11ea_9424_ecf4bbfabc65row2_col2 {\n",
       "            background-color:  #b40426;\n",
       "            color:  #f1f1f1;\n",
       "        }    #T_984604e2_d528_11ea_9424_ecf4bbfabc65row2_col3 {\n",
       "            background-color:  #3b4cc0;\n",
       "            color:  #f1f1f1;\n",
       "        }    #T_984604e2_d528_11ea_9424_ecf4bbfabc65row2_col4 {\n",
       "            background-color:  #3b4cc0;\n",
       "            color:  #f1f1f1;\n",
       "        }    #T_984604e2_d528_11ea_9424_ecf4bbfabc65row2_col5 {\n",
       "            background-color:  #3b4cc0;\n",
       "            color:  #f1f1f1;\n",
       "        }    #T_984604e2_d528_11ea_9424_ecf4bbfabc65row2_col6 {\n",
       "            background-color:  #3b4cc0;\n",
       "            color:  #f1f1f1;\n",
       "        }    #T_984604e2_d528_11ea_9424_ecf4bbfabc65row2_col7 {\n",
       "            background-color:  #3b4cc0;\n",
       "            color:  #f1f1f1;\n",
       "        }    #T_984604e2_d528_11ea_9424_ecf4bbfabc65row2_col8 {\n",
       "            background-color:  #3b4cc0;\n",
       "            color:  #f1f1f1;\n",
       "        }    #T_984604e2_d528_11ea_9424_ecf4bbfabc65row2_col9 {\n",
       "            background-color:  #3b4cc0;\n",
       "            color:  #f1f1f1;\n",
       "        }    #T_984604e2_d528_11ea_9424_ecf4bbfabc65row2_col10 {\n",
       "            background-color:  #3b4cc0;\n",
       "            color:  #f1f1f1;\n",
       "        }    #T_984604e2_d528_11ea_9424_ecf4bbfabc65row2_col11 {\n",
       "            background-color:  #3b4cc0;\n",
       "            color:  #f1f1f1;\n",
       "        }    #T_984604e2_d528_11ea_9424_ecf4bbfabc65row3_col0 {\n",
       "            background-color:  #d55042;\n",
       "            color:  #000000;\n",
       "        }    #T_984604e2_d528_11ea_9424_ecf4bbfabc65row3_col1 {\n",
       "            background-color:  #3b4cc0;\n",
       "            color:  #f1f1f1;\n",
       "        }    #T_984604e2_d528_11ea_9424_ecf4bbfabc65row3_col2 {\n",
       "            background-color:  #3b4cc0;\n",
       "            color:  #f1f1f1;\n",
       "        }    #T_984604e2_d528_11ea_9424_ecf4bbfabc65row3_col3 {\n",
       "            background-color:  #b40426;\n",
       "            color:  #f1f1f1;\n",
       "        }    #T_984604e2_d528_11ea_9424_ecf4bbfabc65row3_col4 {\n",
       "            background-color:  #da5a49;\n",
       "            color:  #000000;\n",
       "        }    #T_984604e2_d528_11ea_9424_ecf4bbfabc65row3_col5 {\n",
       "            background-color:  #d0473d;\n",
       "            color:  #f1f1f1;\n",
       "        }    #T_984604e2_d528_11ea_9424_ecf4bbfabc65row3_col6 {\n",
       "            background-color:  #e36c55;\n",
       "            color:  #000000;\n",
       "        }    #T_984604e2_d528_11ea_9424_ecf4bbfabc65row3_col7 {\n",
       "            background-color:  #ef886b;\n",
       "            color:  #000000;\n",
       "        }    #T_984604e2_d528_11ea_9424_ecf4bbfabc65row3_col8 {\n",
       "            background-color:  #dc5d4a;\n",
       "            color:  #000000;\n",
       "        }    #T_984604e2_d528_11ea_9424_ecf4bbfabc65row3_col9 {\n",
       "            background-color:  #c43032;\n",
       "            color:  #f1f1f1;\n",
       "        }    #T_984604e2_d528_11ea_9424_ecf4bbfabc65row3_col10 {\n",
       "            background-color:  #c43032;\n",
       "            color:  #f1f1f1;\n",
       "        }    #T_984604e2_d528_11ea_9424_ecf4bbfabc65row3_col11 {\n",
       "            background-color:  #bd1f2d;\n",
       "            color:  #f1f1f1;\n",
       "        }    #T_984604e2_d528_11ea_9424_ecf4bbfabc65row4_col0 {\n",
       "            background-color:  #f7a688;\n",
       "            color:  #000000;\n",
       "        }    #T_984604e2_d528_11ea_9424_ecf4bbfabc65row4_col1 {\n",
       "            background-color:  #5d7ce6;\n",
       "            color:  #000000;\n",
       "        }    #T_984604e2_d528_11ea_9424_ecf4bbfabc65row4_col2 {\n",
       "            background-color:  #5b7ae5;\n",
       "            color:  #000000;\n",
       "        }    #T_984604e2_d528_11ea_9424_ecf4bbfabc65row4_col3 {\n",
       "            background-color:  #d65244;\n",
       "            color:  #000000;\n",
       "        }    #T_984604e2_d528_11ea_9424_ecf4bbfabc65row4_col4 {\n",
       "            background-color:  #b40426;\n",
       "            color:  #f1f1f1;\n",
       "        }    #T_984604e2_d528_11ea_9424_ecf4bbfabc65row4_col5 {\n",
       "            background-color:  #bd1f2d;\n",
       "            color:  #f1f1f1;\n",
       "        }    #T_984604e2_d528_11ea_9424_ecf4bbfabc65row4_col6 {\n",
       "            background-color:  #b50927;\n",
       "            color:  #f1f1f1;\n",
       "        }    #T_984604e2_d528_11ea_9424_ecf4bbfabc65row4_col7 {\n",
       "            background-color:  #f59c7d;\n",
       "            color:  #000000;\n",
       "        }    #T_984604e2_d528_11ea_9424_ecf4bbfabc65row4_col8 {\n",
       "            background-color:  #e26952;\n",
       "            color:  #000000;\n",
       "        }    #T_984604e2_d528_11ea_9424_ecf4bbfabc65row4_col9 {\n",
       "            background-color:  #e0654f;\n",
       "            color:  #000000;\n",
       "        }    #T_984604e2_d528_11ea_9424_ecf4bbfabc65row4_col10 {\n",
       "            background-color:  #d0473d;\n",
       "            color:  #f1f1f1;\n",
       "        }    #T_984604e2_d528_11ea_9424_ecf4bbfabc65row4_col11 {\n",
       "            background-color:  #e0654f;\n",
       "            color:  #000000;\n",
       "        }    #T_984604e2_d528_11ea_9424_ecf4bbfabc65row5_col0 {\n",
       "            background-color:  #f29072;\n",
       "            color:  #000000;\n",
       "        }    #T_984604e2_d528_11ea_9424_ecf4bbfabc65row5_col1 {\n",
       "            background-color:  #5572df;\n",
       "            color:  #000000;\n",
       "        }    #T_984604e2_d528_11ea_9424_ecf4bbfabc65row5_col2 {\n",
       "            background-color:  #5470de;\n",
       "            color:  #000000;\n",
       "        }    #T_984604e2_d528_11ea_9424_ecf4bbfabc65row5_col3 {\n",
       "            background-color:  #cd423b;\n",
       "            color:  #f1f1f1;\n",
       "        }    #T_984604e2_d528_11ea_9424_ecf4bbfabc65row5_col4 {\n",
       "            background-color:  #be242e;\n",
       "            color:  #f1f1f1;\n",
       "        }    #T_984604e2_d528_11ea_9424_ecf4bbfabc65row5_col5 {\n",
       "            background-color:  #b40426;\n",
       "            color:  #f1f1f1;\n",
       "        }    #T_984604e2_d528_11ea_9424_ecf4bbfabc65row5_col6 {\n",
       "            background-color:  #ca3b37;\n",
       "            color:  #f1f1f1;\n",
       "        }    #T_984604e2_d528_11ea_9424_ecf4bbfabc65row5_col7 {\n",
       "            background-color:  #f08a6c;\n",
       "            color:  #000000;\n",
       "        }    #T_984604e2_d528_11ea_9424_ecf4bbfabc65row5_col8 {\n",
       "            background-color:  #df634e;\n",
       "            color:  #000000;\n",
       "        }    #T_984604e2_d528_11ea_9424_ecf4bbfabc65row5_col9 {\n",
       "            background-color:  #d24b40;\n",
       "            color:  #f1f1f1;\n",
       "        }    #T_984604e2_d528_11ea_9424_ecf4bbfabc65row5_col10 {\n",
       "            background-color:  #d0473d;\n",
       "            color:  #f1f1f1;\n",
       "        }    #T_984604e2_d528_11ea_9424_ecf4bbfabc65row5_col11 {\n",
       "            background-color:  #d24b40;\n",
       "            color:  #f1f1f1;\n",
       "        }    #T_984604e2_d528_11ea_9424_ecf4bbfabc65row6_col0 {\n",
       "            background-color:  #f7b497;\n",
       "            color:  #000000;\n",
       "        }    #T_984604e2_d528_11ea_9424_ecf4bbfabc65row6_col1 {\n",
       "            background-color:  #6384eb;\n",
       "            color:  #000000;\n",
       "        }    #T_984604e2_d528_11ea_9424_ecf4bbfabc65row6_col2 {\n",
       "            background-color:  #6282ea;\n",
       "            color:  #000000;\n",
       "        }    #T_984604e2_d528_11ea_9424_ecf4bbfabc65row6_col3 {\n",
       "            background-color:  #df634e;\n",
       "            color:  #000000;\n",
       "        }    #T_984604e2_d528_11ea_9424_ecf4bbfabc65row6_col4 {\n",
       "            background-color:  #b50927;\n",
       "            color:  #f1f1f1;\n",
       "        }    #T_984604e2_d528_11ea_9424_ecf4bbfabc65row6_col5 {\n",
       "            background-color:  #c83836;\n",
       "            color:  #f1f1f1;\n",
       "        }    #T_984604e2_d528_11ea_9424_ecf4bbfabc65row6_col6 {\n",
       "            background-color:  #b40426;\n",
       "            color:  #f1f1f1;\n",
       "        }    #T_984604e2_d528_11ea_9424_ecf4bbfabc65row6_col7 {\n",
       "            background-color:  #f7ac8e;\n",
       "            color:  #000000;\n",
       "        }    #T_984604e2_d528_11ea_9424_ecf4bbfabc65row6_col8 {\n",
       "            background-color:  #e67259;\n",
       "            color:  #000000;\n",
       "        }    #T_984604e2_d528_11ea_9424_ecf4bbfabc65row6_col9 {\n",
       "            background-color:  #e7745b;\n",
       "            color:  #000000;\n",
       "        }    #T_984604e2_d528_11ea_9424_ecf4bbfabc65row6_col10 {\n",
       "            background-color:  #d55042;\n",
       "            color:  #000000;\n",
       "        }    #T_984604e2_d528_11ea_9424_ecf4bbfabc65row6_col11 {\n",
       "            background-color:  #e8765c;\n",
       "            color:  #000000;\n",
       "        }    #T_984604e2_d528_11ea_9424_ecf4bbfabc65row7_col0 {\n",
       "            background-color:  #ee8669;\n",
       "            color:  #000000;\n",
       "        }    #T_984604e2_d528_11ea_9424_ecf4bbfabc65row7_col1 {\n",
       "            background-color:  #90b2fe;\n",
       "            color:  #000000;\n",
       "        }    #T_984604e2_d528_11ea_9424_ecf4bbfabc65row7_col2 {\n",
       "            background-color:  #8caffe;\n",
       "            color:  #000000;\n",
       "        }    #T_984604e2_d528_11ea_9424_ecf4bbfabc65row7_col3 {\n",
       "            background-color:  #e57058;\n",
       "            color:  #000000;\n",
       "        }    #T_984604e2_d528_11ea_9424_ecf4bbfabc65row7_col4 {\n",
       "            background-color:  #f08b6e;\n",
       "            color:  #000000;\n",
       "        }    #T_984604e2_d528_11ea_9424_ecf4bbfabc65row7_col5 {\n",
       "            background-color:  #e9785d;\n",
       "            color:  #000000;\n",
       "        }    #T_984604e2_d528_11ea_9424_ecf4bbfabc65row7_col6 {\n",
       "            background-color:  #f59c7d;\n",
       "            color:  #000000;\n",
       "        }    #T_984604e2_d528_11ea_9424_ecf4bbfabc65row7_col7 {\n",
       "            background-color:  #b40426;\n",
       "            color:  #f1f1f1;\n",
       "        }    #T_984604e2_d528_11ea_9424_ecf4bbfabc65row7_col8 {\n",
       "            background-color:  #e46e56;\n",
       "            color:  #000000;\n",
       "        }    #T_984604e2_d528_11ea_9424_ecf4bbfabc65row7_col9 {\n",
       "            background-color:  #ed8366;\n",
       "            color:  #000000;\n",
       "        }    #T_984604e2_d528_11ea_9424_ecf4bbfabc65row7_col10 {\n",
       "            background-color:  #ef886b;\n",
       "            color:  #000000;\n",
       "        }    #T_984604e2_d528_11ea_9424_ecf4bbfabc65row7_col11 {\n",
       "            background-color:  #e9785d;\n",
       "            color:  #000000;\n",
       "        }    #T_984604e2_d528_11ea_9424_ecf4bbfabc65row8_col0 {\n",
       "            background-color:  #e36b54;\n",
       "            color:  #000000;\n",
       "        }    #T_984604e2_d528_11ea_9424_ecf4bbfabc65row8_col1 {\n",
       "            background-color:  #4358cb;\n",
       "            color:  #f1f1f1;\n",
       "        }    #T_984604e2_d528_11ea_9424_ecf4bbfabc65row8_col2 {\n",
       "            background-color:  #4358cb;\n",
       "            color:  #f1f1f1;\n",
       "        }    #T_984604e2_d528_11ea_9424_ecf4bbfabc65row8_col3 {\n",
       "            background-color:  #da5a49;\n",
       "            color:  #000000;\n",
       "        }    #T_984604e2_d528_11ea_9424_ecf4bbfabc65row8_col4 {\n",
       "            background-color:  #e46e56;\n",
       "            color:  #000000;\n",
       "        }    #T_984604e2_d528_11ea_9424_ecf4bbfabc65row8_col5 {\n",
       "            background-color:  #e16751;\n",
       "            color:  #000000;\n",
       "        }    #T_984604e2_d528_11ea_9424_ecf4bbfabc65row8_col6 {\n",
       "            background-color:  #ea7b60;\n",
       "            color:  #000000;\n",
       "        }    #T_984604e2_d528_11ea_9424_ecf4bbfabc65row8_col7 {\n",
       "            background-color:  #ed8366;\n",
       "            color:  #000000;\n",
       "        }    #T_984604e2_d528_11ea_9424_ecf4bbfabc65row8_col8 {\n",
       "            background-color:  #b40426;\n",
       "            color:  #f1f1f1;\n",
       "        }    #T_984604e2_d528_11ea_9424_ecf4bbfabc65row8_col9 {\n",
       "            background-color:  #ec8165;\n",
       "            color:  #000000;\n",
       "        }    #T_984604e2_d528_11ea_9424_ecf4bbfabc65row8_col10 {\n",
       "            background-color:  #e16751;\n",
       "            color:  #000000;\n",
       "        }    #T_984604e2_d528_11ea_9424_ecf4bbfabc65row8_col11 {\n",
       "            background-color:  #e16751;\n",
       "            color:  #000000;\n",
       "        }    #T_984604e2_d528_11ea_9424_ecf4bbfabc65row9_col0 {\n",
       "            background-color:  #e8765c;\n",
       "            color:  #000000;\n",
       "        }    #T_984604e2_d528_11ea_9424_ecf4bbfabc65row9_col1 {\n",
       "            background-color:  #3b4cc0;\n",
       "            color:  #f1f1f1;\n",
       "        }    #T_984604e2_d528_11ea_9424_ecf4bbfabc65row9_col2 {\n",
       "            background-color:  #3c4ec2;\n",
       "            color:  #f1f1f1;\n",
       "        }    #T_984604e2_d528_11ea_9424_ecf4bbfabc65row9_col3 {\n",
       "            background-color:  #c43032;\n",
       "            color:  #f1f1f1;\n",
       "        }    #T_984604e2_d528_11ea_9424_ecf4bbfabc65row9_col4 {\n",
       "            background-color:  #e36c55;\n",
       "            color:  #000000;\n",
       "        }    #T_984604e2_d528_11ea_9424_ecf4bbfabc65row9_col5 {\n",
       "            background-color:  #d55042;\n",
       "            color:  #000000;\n",
       "        }    #T_984604e2_d528_11ea_9424_ecf4bbfabc65row9_col6 {\n",
       "            background-color:  #ec7f63;\n",
       "            color:  #000000;\n",
       "        }    #T_984604e2_d528_11ea_9424_ecf4bbfabc65row9_col7 {\n",
       "            background-color:  #f59f80;\n",
       "            color:  #000000;\n",
       "        }    #T_984604e2_d528_11ea_9424_ecf4bbfabc65row9_col8 {\n",
       "            background-color:  #ed8366;\n",
       "            color:  #000000;\n",
       "        }    #T_984604e2_d528_11ea_9424_ecf4bbfabc65row9_col9 {\n",
       "            background-color:  #b40426;\n",
       "            color:  #f1f1f1;\n",
       "        }    #T_984604e2_d528_11ea_9424_ecf4bbfabc65row9_col10 {\n",
       "            background-color:  #d75445;\n",
       "            color:  #000000;\n",
       "        }    #T_984604e2_d528_11ea_9424_ecf4bbfabc65row9_col11 {\n",
       "            background-color:  #c53334;\n",
       "            color:  #f1f1f1;\n",
       "        }    #T_984604e2_d528_11ea_9424_ecf4bbfabc65row10_col0 {\n",
       "            background-color:  #de614d;\n",
       "            color:  #000000;\n",
       "        }    #T_984604e2_d528_11ea_9424_ecf4bbfabc65row10_col1 {\n",
       "            background-color:  #5572df;\n",
       "            color:  #000000;\n",
       "        }    #T_984604e2_d528_11ea_9424_ecf4bbfabc65row10_col2 {\n",
       "            background-color:  #5572df;\n",
       "            color:  #000000;\n",
       "        }    #T_984604e2_d528_11ea_9424_ecf4bbfabc65row10_col3 {\n",
       "            background-color:  #c32e31;\n",
       "            color:  #f1f1f1;\n",
       "        }    #T_984604e2_d528_11ea_9424_ecf4bbfabc65row10_col4 {\n",
       "            background-color:  #d0473d;\n",
       "            color:  #f1f1f1;\n",
       "        }    #T_984604e2_d528_11ea_9424_ecf4bbfabc65row10_col5 {\n",
       "            background-color:  #d0473d;\n",
       "            color:  #f1f1f1;\n",
       "        }    #T_984604e2_d528_11ea_9424_ecf4bbfabc65row10_col6 {\n",
       "            background-color:  #d65244;\n",
       "            color:  #000000;\n",
       "        }    #T_984604e2_d528_11ea_9424_ecf4bbfabc65row10_col7 {\n",
       "            background-color:  #f49a7b;\n",
       "            color:  #000000;\n",
       "        }    #T_984604e2_d528_11ea_9424_ecf4bbfabc65row10_col8 {\n",
       "            background-color:  #df634e;\n",
       "            color:  #000000;\n",
       "        }    #T_984604e2_d528_11ea_9424_ecf4bbfabc65row10_col9 {\n",
       "            background-color:  #d44e41;\n",
       "            color:  #000000;\n",
       "        }    #T_984604e2_d528_11ea_9424_ecf4bbfabc65row10_col10 {\n",
       "            background-color:  #b40426;\n",
       "            color:  #f1f1f1;\n",
       "        }    #T_984604e2_d528_11ea_9424_ecf4bbfabc65row10_col11 {\n",
       "            background-color:  #c83836;\n",
       "            color:  #f1f1f1;\n",
       "        }    #T_984604e2_d528_11ea_9424_ecf4bbfabc65row11_col0 {\n",
       "            background-color:  #cf453c;\n",
       "            color:  #f1f1f1;\n",
       "        }    #T_984604e2_d528_11ea_9424_ecf4bbfabc65row11_col1 {\n",
       "            background-color:  #3d50c3;\n",
       "            color:  #f1f1f1;\n",
       "        }    #T_984604e2_d528_11ea_9424_ecf4bbfabc65row11_col2 {\n",
       "            background-color:  #3d50c3;\n",
       "            color:  #f1f1f1;\n",
       "        }    #T_984604e2_d528_11ea_9424_ecf4bbfabc65row11_col3 {\n",
       "            background-color:  #bd1f2d;\n",
       "            color:  #f1f1f1;\n",
       "        }    #T_984604e2_d528_11ea_9424_ecf4bbfabc65row11_col4 {\n",
       "            background-color:  #e36c55;\n",
       "            color:  #000000;\n",
       "        }    #T_984604e2_d528_11ea_9424_ecf4bbfabc65row11_col5 {\n",
       "            background-color:  #d44e41;\n",
       "            color:  #000000;\n",
       "        }    #T_984604e2_d528_11ea_9424_ecf4bbfabc65row11_col6 {\n",
       "            background-color:  #ec8165;\n",
       "            color:  #000000;\n",
       "        }    #T_984604e2_d528_11ea_9424_ecf4bbfabc65row11_col7 {\n",
       "            background-color:  #f29274;\n",
       "            color:  #000000;\n",
       "        }    #T_984604e2_d528_11ea_9424_ecf4bbfabc65row11_col8 {\n",
       "            background-color:  #e16751;\n",
       "            color:  #000000;\n",
       "        }    #T_984604e2_d528_11ea_9424_ecf4bbfabc65row11_col9 {\n",
       "            background-color:  #c53334;\n",
       "            color:  #f1f1f1;\n",
       "        }    #T_984604e2_d528_11ea_9424_ecf4bbfabc65row11_col10 {\n",
       "            background-color:  #ca3b37;\n",
       "            color:  #f1f1f1;\n",
       "        }    #T_984604e2_d528_11ea_9424_ecf4bbfabc65row11_col11 {\n",
       "            background-color:  #b40426;\n",
       "            color:  #f1f1f1;\n",
       "        }</style><table id=\"T_984604e2_d528_11ea_9424_ecf4bbfabc65\" ><thead>    <tr>        <th class=\"index_name level0\" >0</th>        <th class=\"col_heading level0 col0\" >1. Combustíveis e lubrificantes</th>        <th class=\"col_heading level0 col1\" >2. Hipermercados, supermercados, produtos alimentícios bebidas e fumo</th>        <th class=\"col_heading level0 col2\" >2.1. Hipermercados e supermercados</th>        <th class=\"col_heading level0 col3\" >3. Tecidos, vestuário e calçados</th>        <th class=\"col_heading level0 col4\" >4. Móveis e eletrodomésticos</th>        <th class=\"col_heading level0 col5\" >4.1. Móveis</th>        <th class=\"col_heading level0 col6\" >4.2. Eletrodomésticos</th>        <th class=\"col_heading level0 col7\" >5. Artigos farmacêuticos, médicos, ortopédicos, de perfumaria e cosméticos</th>        <th class=\"col_heading level0 col8\" >6. Livros, jornais, revistas e papelaria</th>        <th class=\"col_heading level0 col9\" >7. Equipamentos e materiais para escritório, informática e comunicação</th>        <th class=\"col_heading level0 col10\" >8. Outros artigos de uso pessoal e doméstico</th>        <th class=\"col_heading level0 col11\" >9. Veículos, motocicletas, partes e peças</th>    </tr>    <tr>        <th class=\"index_name level0\" >0</th>        <th class=\"blank\" ></th>        <th class=\"blank\" ></th>        <th class=\"blank\" ></th>        <th class=\"blank\" ></th>        <th class=\"blank\" ></th>        <th class=\"blank\" ></th>        <th class=\"blank\" ></th>        <th class=\"blank\" ></th>        <th class=\"blank\" ></th>        <th class=\"blank\" ></th>        <th class=\"blank\" ></th>        <th class=\"blank\" ></th>    </tr></thead><tbody>\n",
       "                <tr>\n",
       "                        <th id=\"T_984604e2_d528_11ea_9424_ecf4bbfabc65level0_row0\" class=\"row_heading level0 row0\" >1. Combustíveis e lubrificantes</th>\n",
       "                        <td id=\"T_984604e2_d528_11ea_9424_ecf4bbfabc65row0_col0\" class=\"data row0 col0\" >1.000000</td>\n",
       "                        <td id=\"T_984604e2_d528_11ea_9424_ecf4bbfabc65row0_col1\" class=\"data row0 col1\" >-0.579618</td>\n",
       "                        <td id=\"T_984604e2_d528_11ea_9424_ecf4bbfabc65row0_col2\" class=\"data row0 col2\" >-0.606261</td>\n",
       "                        <td id=\"T_984604e2_d528_11ea_9424_ecf4bbfabc65row0_col3\" class=\"data row0 col3\" >0.846161</td>\n",
       "                        <td id=\"T_984604e2_d528_11ea_9424_ecf4bbfabc65row0_col4\" class=\"data row0 col4\" >0.546432</td>\n",
       "                        <td id=\"T_984604e2_d528_11ea_9424_ecf4bbfabc65row0_col5\" class=\"data row0 col5\" >0.631521</td>\n",
       "                        <td id=\"T_984604e2_d528_11ea_9424_ecf4bbfabc65row0_col6\" class=\"data row0 col6\" >0.483765</td>\n",
       "                        <td id=\"T_984604e2_d528_11ea_9424_ecf4bbfabc65row0_col7\" class=\"data row0 col7\" >0.670417</td>\n",
       "                        <td id=\"T_984604e2_d528_11ea_9424_ecf4bbfabc65row0_col8\" class=\"data row0 col8\" >0.762970</td>\n",
       "                        <td id=\"T_984604e2_d528_11ea_9424_ecf4bbfabc65row0_col9\" class=\"data row0 col9\" >0.723975</td>\n",
       "                        <td id=\"T_984604e2_d528_11ea_9424_ecf4bbfabc65row0_col10\" class=\"data row0 col10\" >0.795117</td>\n",
       "                        <td id=\"T_984604e2_d528_11ea_9424_ecf4bbfabc65row0_col11\" class=\"data row0 col11\" >0.875377</td>\n",
       "            </tr>\n",
       "            <tr>\n",
       "                        <th id=\"T_984604e2_d528_11ea_9424_ecf4bbfabc65level0_row1\" class=\"row_heading level0 row1\" >2. Hipermercados, supermercados, produtos alimentícios bebidas e fumo</th>\n",
       "                        <td id=\"T_984604e2_d528_11ea_9424_ecf4bbfabc65row1_col0\" class=\"data row1 col0\" >-0.579618</td>\n",
       "                        <td id=\"T_984604e2_d528_11ea_9424_ecf4bbfabc65row1_col1\" class=\"data row1 col1\" >1.000000</td>\n",
       "                        <td id=\"T_984604e2_d528_11ea_9424_ecf4bbfabc65row1_col2\" class=\"data row1 col2\" >0.998024</td>\n",
       "                        <td id=\"T_984604e2_d528_11ea_9424_ecf4bbfabc65row1_col3\" class=\"data row1 col3\" >-0.662128</td>\n",
       "                        <td id=\"T_984604e2_d528_11ea_9424_ecf4bbfabc65row1_col4\" class=\"data row1 col4\" >-0.475688</td>\n",
       "                        <td id=\"T_984604e2_d528_11ea_9424_ecf4bbfabc65row1_col5\" class=\"data row1 col5\" >-0.514347</td>\n",
       "                        <td id=\"T_984604e2_d528_11ea_9424_ecf4bbfabc65row1_col6\" class=\"data row1 col6\" >-0.444986</td>\n",
       "                        <td id=\"T_984604e2_d528_11ea_9424_ecf4bbfabc65row1_col7\" class=\"data row1 col7\" >-0.227536</td>\n",
       "                        <td id=\"T_984604e2_d528_11ea_9424_ecf4bbfabc65row1_col8\" class=\"data row1 col8\" >-0.610530</td>\n",
       "                        <td id=\"T_984604e2_d528_11ea_9424_ecf4bbfabc65row1_col9\" class=\"data row1 col9\" >-0.658198</td>\n",
       "                        <td id=\"T_984604e2_d528_11ea_9424_ecf4bbfabc65row1_col10\" class=\"data row1 col10\" >-0.515223</td>\n",
       "                        <td id=\"T_984604e2_d528_11ea_9424_ecf4bbfabc65row1_col11\" class=\"data row1 col11\" >-0.646334</td>\n",
       "            </tr>\n",
       "            <tr>\n",
       "                        <th id=\"T_984604e2_d528_11ea_9424_ecf4bbfabc65level0_row2\" class=\"row_heading level0 row2\" >2.1. Hipermercados e supermercados</th>\n",
       "                        <td id=\"T_984604e2_d528_11ea_9424_ecf4bbfabc65row2_col0\" class=\"data row2 col0\" >-0.606261</td>\n",
       "                        <td id=\"T_984604e2_d528_11ea_9424_ecf4bbfabc65row2_col1\" class=\"data row2 col1\" >0.998024</td>\n",
       "                        <td id=\"T_984604e2_d528_11ea_9424_ecf4bbfabc65row2_col2\" class=\"data row2 col2\" >1.000000</td>\n",
       "                        <td id=\"T_984604e2_d528_11ea_9424_ecf4bbfabc65row2_col3\" class=\"data row2 col3\" >-0.691941</td>\n",
       "                        <td id=\"T_984604e2_d528_11ea_9424_ecf4bbfabc65row2_col4\" class=\"data row2 col4\" >-0.508149</td>\n",
       "                        <td id=\"T_984604e2_d528_11ea_9424_ecf4bbfabc65row2_col5\" class=\"data row2 col5\" >-0.547159</td>\n",
       "                        <td id=\"T_984604e2_d528_11ea_9424_ecf4bbfabc65row2_col6\" class=\"data row2 col6\" >-0.475967</td>\n",
       "                        <td id=\"T_984604e2_d528_11ea_9424_ecf4bbfabc65row2_col7\" class=\"data row2 col7\" >-0.270674</td>\n",
       "                        <td id=\"T_984604e2_d528_11ea_9424_ecf4bbfabc65row2_col8\" class=\"data row2 col8\" >-0.642027</td>\n",
       "                        <td id=\"T_984604e2_d528_11ea_9424_ecf4bbfabc65row2_col9\" class=\"data row2 col9\" >-0.681967</td>\n",
       "                        <td id=\"T_984604e2_d528_11ea_9424_ecf4bbfabc65row2_col10\" class=\"data row2 col10\" >-0.545962</td>\n",
       "                        <td id=\"T_984604e2_d528_11ea_9424_ecf4bbfabc65row2_col11\" class=\"data row2 col11\" >-0.673371</td>\n",
       "            </tr>\n",
       "            <tr>\n",
       "                        <th id=\"T_984604e2_d528_11ea_9424_ecf4bbfabc65level0_row3\" class=\"row_heading level0 row3\" >3. Tecidos, vestuário e calçados</th>\n",
       "                        <td id=\"T_984604e2_d528_11ea_9424_ecf4bbfabc65row3_col0\" class=\"data row3 col0\" >0.846161</td>\n",
       "                        <td id=\"T_984604e2_d528_11ea_9424_ecf4bbfabc65row3_col1\" class=\"data row3 col1\" >-0.662128</td>\n",
       "                        <td id=\"T_984604e2_d528_11ea_9424_ecf4bbfabc65row3_col2\" class=\"data row3 col2\" >-0.691941</td>\n",
       "                        <td id=\"T_984604e2_d528_11ea_9424_ecf4bbfabc65row3_col3\" class=\"data row3 col3\" >1.000000</td>\n",
       "                        <td id=\"T_984604e2_d528_11ea_9424_ecf4bbfabc65row3_col4\" class=\"data row3 col4\" >0.829036</td>\n",
       "                        <td id=\"T_984604e2_d528_11ea_9424_ecf4bbfabc65row3_col5\" class=\"data row3 col5\" >0.878162</td>\n",
       "                        <td id=\"T_984604e2_d528_11ea_9424_ecf4bbfabc65row3_col6\" class=\"data row3 col6\" >0.778391</td>\n",
       "                        <td id=\"T_984604e2_d528_11ea_9424_ecf4bbfabc65row3_col7\" class=\"data row3 col7\" >0.735217</td>\n",
       "                        <td id=\"T_984604e2_d528_11ea_9424_ecf4bbfabc65row3_col8\" class=\"data row3 col8\" >0.807293</td>\n",
       "                        <td id=\"T_984604e2_d528_11ea_9424_ecf4bbfabc65row3_col9\" class=\"data row3 col9\" >0.925205</td>\n",
       "                        <td id=\"T_984604e2_d528_11ea_9424_ecf4bbfabc65row3_col10\" class=\"data row3 col10\" >0.930737</td>\n",
       "                        <td id=\"T_984604e2_d528_11ea_9424_ecf4bbfabc65row3_col11\" class=\"data row3 col11\" >0.956822</td>\n",
       "            </tr>\n",
       "            <tr>\n",
       "                        <th id=\"T_984604e2_d528_11ea_9424_ecf4bbfabc65level0_row4\" class=\"row_heading level0 row4\" >4. Móveis e eletrodomésticos</th>\n",
       "                        <td id=\"T_984604e2_d528_11ea_9424_ecf4bbfabc65row4_col0\" class=\"data row4 col0\" >0.546432</td>\n",
       "                        <td id=\"T_984604e2_d528_11ea_9424_ecf4bbfabc65row4_col1\" class=\"data row4 col1\" >-0.475688</td>\n",
       "                        <td id=\"T_984604e2_d528_11ea_9424_ecf4bbfabc65row4_col2\" class=\"data row4 col2\" >-0.508149</td>\n",
       "                        <td id=\"T_984604e2_d528_11ea_9424_ecf4bbfabc65row4_col3\" class=\"data row4 col3\" >0.829036</td>\n",
       "                        <td id=\"T_984604e2_d528_11ea_9424_ecf4bbfabc65row4_col4\" class=\"data row4 col4\" >1.000000</td>\n",
       "                        <td id=\"T_984604e2_d528_11ea_9424_ecf4bbfabc65row4_col5\" class=\"data row4 col5\" >0.958247</td>\n",
       "                        <td id=\"T_984604e2_d528_11ea_9424_ecf4bbfabc65row4_col6\" class=\"data row4 col6\" >0.991217</td>\n",
       "                        <td id=\"T_984604e2_d528_11ea_9424_ecf4bbfabc65row4_col7\" class=\"data row4 col7\" >0.672594</td>\n",
       "                        <td id=\"T_984604e2_d528_11ea_9424_ecf4bbfabc65row4_col8\" class=\"data row4 col8\" >0.767125</td>\n",
       "                        <td id=\"T_984604e2_d528_11ea_9424_ecf4bbfabc65row4_col9\" class=\"data row4 col9\" >0.775776</td>\n",
       "                        <td id=\"T_984604e2_d528_11ea_9424_ecf4bbfabc65row4_col10\" class=\"data row4 col10\" >0.878098</td>\n",
       "                        <td id=\"T_984604e2_d528_11ea_9424_ecf4bbfabc65row4_col11\" class=\"data row4 col11\" >0.773915</td>\n",
       "            </tr>\n",
       "            <tr>\n",
       "                        <th id=\"T_984604e2_d528_11ea_9424_ecf4bbfabc65level0_row5\" class=\"row_heading level0 row5\" >4.1. Móveis</th>\n",
       "                        <td id=\"T_984604e2_d528_11ea_9424_ecf4bbfabc65row5_col0\" class=\"data row5 col0\" >0.631521</td>\n",
       "                        <td id=\"T_984604e2_d528_11ea_9424_ecf4bbfabc65row5_col1\" class=\"data row5 col1\" >-0.514347</td>\n",
       "                        <td id=\"T_984604e2_d528_11ea_9424_ecf4bbfabc65row5_col2\" class=\"data row5 col2\" >-0.547159</td>\n",
       "                        <td id=\"T_984604e2_d528_11ea_9424_ecf4bbfabc65row5_col3\" class=\"data row5 col3\" >0.878162</td>\n",
       "                        <td id=\"T_984604e2_d528_11ea_9424_ecf4bbfabc65row5_col4\" class=\"data row5 col4\" >0.958247</td>\n",
       "                        <td id=\"T_984604e2_d528_11ea_9424_ecf4bbfabc65row5_col5\" class=\"data row5 col5\" >1.000000</td>\n",
       "                        <td id=\"T_984604e2_d528_11ea_9424_ecf4bbfabc65row5_col6\" class=\"data row5 col6\" >0.913036</td>\n",
       "                        <td id=\"T_984604e2_d528_11ea_9424_ecf4bbfabc65row5_col7\" class=\"data row5 col7\" >0.731892</td>\n",
       "                        <td id=\"T_984604e2_d528_11ea_9424_ecf4bbfabc65row5_col8\" class=\"data row5 col8\" >0.784940</td>\n",
       "                        <td id=\"T_984604e2_d528_11ea_9424_ecf4bbfabc65row5_col9\" class=\"data row5 col9\" >0.852369</td>\n",
       "                        <td id=\"T_984604e2_d528_11ea_9424_ecf4bbfabc65row5_col10\" class=\"data row5 col10\" >0.875400</td>\n",
       "                        <td id=\"T_984604e2_d528_11ea_9424_ecf4bbfabc65row5_col11\" class=\"data row5 col11\" >0.855617</td>\n",
       "            </tr>\n",
       "            <tr>\n",
       "                        <th id=\"T_984604e2_d528_11ea_9424_ecf4bbfabc65level0_row6\" class=\"row_heading level0 row6\" >4.2. Eletrodomésticos</th>\n",
       "                        <td id=\"T_984604e2_d528_11ea_9424_ecf4bbfabc65row6_col0\" class=\"data row6 col0\" >0.483765</td>\n",
       "                        <td id=\"T_984604e2_d528_11ea_9424_ecf4bbfabc65row6_col1\" class=\"data row6 col1\" >-0.444986</td>\n",
       "                        <td id=\"T_984604e2_d528_11ea_9424_ecf4bbfabc65row6_col2\" class=\"data row6 col2\" >-0.475967</td>\n",
       "                        <td id=\"T_984604e2_d528_11ea_9424_ecf4bbfabc65row6_col3\" class=\"data row6 col3\" >0.778391</td>\n",
       "                        <td id=\"T_984604e2_d528_11ea_9424_ecf4bbfabc65row6_col4\" class=\"data row6 col4\" >0.991217</td>\n",
       "                        <td id=\"T_984604e2_d528_11ea_9424_ecf4bbfabc65row6_col5\" class=\"data row6 col5\" >0.913036</td>\n",
       "                        <td id=\"T_984604e2_d528_11ea_9424_ecf4bbfabc65row6_col6\" class=\"data row6 col6\" >1.000000</td>\n",
       "                        <td id=\"T_984604e2_d528_11ea_9424_ecf4bbfabc65row6_col7\" class=\"data row6 col7\" >0.620467</td>\n",
       "                        <td id=\"T_984604e2_d528_11ea_9424_ecf4bbfabc65row6_col8\" class=\"data row6 col8\" >0.732034</td>\n",
       "                        <td id=\"T_984604e2_d528_11ea_9424_ecf4bbfabc65row6_col9\" class=\"data row6 col9\" >0.721815</td>\n",
       "                        <td id=\"T_984604e2_d528_11ea_9424_ecf4bbfabc65row6_col10\" class=\"data row6 col10\" >0.852232</td>\n",
       "                        <td id=\"T_984604e2_d528_11ea_9424_ecf4bbfabc65row6_col11\" class=\"data row6 col11\" >0.712962</td>\n",
       "            </tr>\n",
       "            <tr>\n",
       "                        <th id=\"T_984604e2_d528_11ea_9424_ecf4bbfabc65level0_row7\" class=\"row_heading level0 row7\" >5. Artigos farmacêuticos, médicos, ortopédicos, de perfumaria e cosméticos</th>\n",
       "                        <td id=\"T_984604e2_d528_11ea_9424_ecf4bbfabc65row7_col0\" class=\"data row7 col0\" >0.670417</td>\n",
       "                        <td id=\"T_984604e2_d528_11ea_9424_ecf4bbfabc65row7_col1\" class=\"data row7 col1\" >-0.227536</td>\n",
       "                        <td id=\"T_984604e2_d528_11ea_9424_ecf4bbfabc65row7_col2\" class=\"data row7 col2\" >-0.270674</td>\n",
       "                        <td id=\"T_984604e2_d528_11ea_9424_ecf4bbfabc65row7_col3\" class=\"data row7 col3\" >0.735217</td>\n",
       "                        <td id=\"T_984604e2_d528_11ea_9424_ecf4bbfabc65row7_col4\" class=\"data row7 col4\" >0.672594</td>\n",
       "                        <td id=\"T_984604e2_d528_11ea_9424_ecf4bbfabc65row7_col5\" class=\"data row7 col5\" >0.731892</td>\n",
       "                        <td id=\"T_984604e2_d528_11ea_9424_ecf4bbfabc65row7_col6\" class=\"data row7 col6\" >0.620467</td>\n",
       "                        <td id=\"T_984604e2_d528_11ea_9424_ecf4bbfabc65row7_col7\" class=\"data row7 col7\" >1.000000</td>\n",
       "                        <td id=\"T_984604e2_d528_11ea_9424_ecf4bbfabc65row7_col8\" class=\"data row7 col8\" >0.747948</td>\n",
       "                        <td id=\"T_984604e2_d528_11ea_9424_ecf4bbfabc65row7_col9\" class=\"data row7 col9\" >0.664936</td>\n",
       "                        <td id=\"T_984604e2_d528_11ea_9424_ecf4bbfabc65row7_col10\" class=\"data row7 col10\" >0.679403</td>\n",
       "                        <td id=\"T_984604e2_d528_11ea_9424_ecf4bbfabc65row7_col11\" class=\"data row7 col11\" >0.706842</td>\n",
       "            </tr>\n",
       "            <tr>\n",
       "                        <th id=\"T_984604e2_d528_11ea_9424_ecf4bbfabc65level0_row8\" class=\"row_heading level0 row8\" >6. Livros, jornais, revistas e papelaria</th>\n",
       "                        <td id=\"T_984604e2_d528_11ea_9424_ecf4bbfabc65row8_col0\" class=\"data row8 col0\" >0.762970</td>\n",
       "                        <td id=\"T_984604e2_d528_11ea_9424_ecf4bbfabc65row8_col1\" class=\"data row8 col1\" >-0.610530</td>\n",
       "                        <td id=\"T_984604e2_d528_11ea_9424_ecf4bbfabc65row8_col2\" class=\"data row8 col2\" >-0.642027</td>\n",
       "                        <td id=\"T_984604e2_d528_11ea_9424_ecf4bbfabc65row8_col3\" class=\"data row8 col3\" >0.807293</td>\n",
       "                        <td id=\"T_984604e2_d528_11ea_9424_ecf4bbfabc65row8_col4\" class=\"data row8 col4\" >0.767125</td>\n",
       "                        <td id=\"T_984604e2_d528_11ea_9424_ecf4bbfabc65row8_col5\" class=\"data row8 col5\" >0.784940</td>\n",
       "                        <td id=\"T_984604e2_d528_11ea_9424_ecf4bbfabc65row8_col6\" class=\"data row8 col6\" >0.732034</td>\n",
       "                        <td id=\"T_984604e2_d528_11ea_9424_ecf4bbfabc65row8_col7\" class=\"data row8 col7\" >0.747948</td>\n",
       "                        <td id=\"T_984604e2_d528_11ea_9424_ecf4bbfabc65row8_col8\" class=\"data row8 col8\" >1.000000</td>\n",
       "                        <td id=\"T_984604e2_d528_11ea_9424_ecf4bbfabc65row8_col9\" class=\"data row8 col9\" >0.674488</td>\n",
       "                        <td id=\"T_984604e2_d528_11ea_9424_ecf4bbfabc65row8_col10\" class=\"data row8 col10\" >0.782763</td>\n",
       "                        <td id=\"T_984604e2_d528_11ea_9424_ecf4bbfabc65row8_col11\" class=\"data row8 col11\" >0.770803</td>\n",
       "            </tr>\n",
       "            <tr>\n",
       "                        <th id=\"T_984604e2_d528_11ea_9424_ecf4bbfabc65level0_row9\" class=\"row_heading level0 row9\" >7. Equipamentos e materiais para escritório, informática e comunicação</th>\n",
       "                        <td id=\"T_984604e2_d528_11ea_9424_ecf4bbfabc65row9_col0\" class=\"data row9 col0\" >0.723975</td>\n",
       "                        <td id=\"T_984604e2_d528_11ea_9424_ecf4bbfabc65row9_col1\" class=\"data row9 col1\" >-0.658198</td>\n",
       "                        <td id=\"T_984604e2_d528_11ea_9424_ecf4bbfabc65row9_col2\" class=\"data row9 col2\" >-0.681967</td>\n",
       "                        <td id=\"T_984604e2_d528_11ea_9424_ecf4bbfabc65row9_col3\" class=\"data row9 col3\" >0.925205</td>\n",
       "                        <td id=\"T_984604e2_d528_11ea_9424_ecf4bbfabc65row9_col4\" class=\"data row9 col4\" >0.775776</td>\n",
       "                        <td id=\"T_984604e2_d528_11ea_9424_ecf4bbfabc65row9_col5\" class=\"data row9 col5\" >0.852369</td>\n",
       "                        <td id=\"T_984604e2_d528_11ea_9424_ecf4bbfabc65row9_col6\" class=\"data row9 col6\" >0.721815</td>\n",
       "                        <td id=\"T_984604e2_d528_11ea_9424_ecf4bbfabc65row9_col7\" class=\"data row9 col7\" >0.664936</td>\n",
       "                        <td id=\"T_984604e2_d528_11ea_9424_ecf4bbfabc65row9_col8\" class=\"data row9 col8\" >0.674488</td>\n",
       "                        <td id=\"T_984604e2_d528_11ea_9424_ecf4bbfabc65row9_col9\" class=\"data row9 col9\" >1.000000</td>\n",
       "                        <td id=\"T_984604e2_d528_11ea_9424_ecf4bbfabc65row9_col10\" class=\"data row9 col10\" >0.842373</td>\n",
       "                        <td id=\"T_984604e2_d528_11ea_9424_ecf4bbfabc65row9_col11\" class=\"data row9 col11\" >0.919012</td>\n",
       "            </tr>\n",
       "            <tr>\n",
       "                        <th id=\"T_984604e2_d528_11ea_9424_ecf4bbfabc65level0_row10\" class=\"row_heading level0 row10\" >8. Outros artigos de uso pessoal e doméstico</th>\n",
       "                        <td id=\"T_984604e2_d528_11ea_9424_ecf4bbfabc65row10_col0\" class=\"data row10 col0\" >0.795117</td>\n",
       "                        <td id=\"T_984604e2_d528_11ea_9424_ecf4bbfabc65row10_col1\" class=\"data row10 col1\" >-0.515223</td>\n",
       "                        <td id=\"T_984604e2_d528_11ea_9424_ecf4bbfabc65row10_col2\" class=\"data row10 col2\" >-0.545962</td>\n",
       "                        <td id=\"T_984604e2_d528_11ea_9424_ecf4bbfabc65row10_col3\" class=\"data row10 col3\" >0.930737</td>\n",
       "                        <td id=\"T_984604e2_d528_11ea_9424_ecf4bbfabc65row10_col4\" class=\"data row10 col4\" >0.878098</td>\n",
       "                        <td id=\"T_984604e2_d528_11ea_9424_ecf4bbfabc65row10_col5\" class=\"data row10 col5\" >0.875400</td>\n",
       "                        <td id=\"T_984604e2_d528_11ea_9424_ecf4bbfabc65row10_col6\" class=\"data row10 col6\" >0.852232</td>\n",
       "                        <td id=\"T_984604e2_d528_11ea_9424_ecf4bbfabc65row10_col7\" class=\"data row10 col7\" >0.679403</td>\n",
       "                        <td id=\"T_984604e2_d528_11ea_9424_ecf4bbfabc65row10_col8\" class=\"data row10 col8\" >0.782763</td>\n",
       "                        <td id=\"T_984604e2_d528_11ea_9424_ecf4bbfabc65row10_col9\" class=\"data row10 col9\" >0.842373</td>\n",
       "                        <td id=\"T_984604e2_d528_11ea_9424_ecf4bbfabc65row10_col10\" class=\"data row10 col10\" >1.000000</td>\n",
       "                        <td id=\"T_984604e2_d528_11ea_9424_ecf4bbfabc65row10_col11\" class=\"data row10 col11\" >0.904587</td>\n",
       "            </tr>\n",
       "            <tr>\n",
       "                        <th id=\"T_984604e2_d528_11ea_9424_ecf4bbfabc65level0_row11\" class=\"row_heading level0 row11\" >9. Veículos, motocicletas, partes e peças</th>\n",
       "                        <td id=\"T_984604e2_d528_11ea_9424_ecf4bbfabc65row11_col0\" class=\"data row11 col0\" >0.875377</td>\n",
       "                        <td id=\"T_984604e2_d528_11ea_9424_ecf4bbfabc65row11_col1\" class=\"data row11 col1\" >-0.646334</td>\n",
       "                        <td id=\"T_984604e2_d528_11ea_9424_ecf4bbfabc65row11_col2\" class=\"data row11 col2\" >-0.673371</td>\n",
       "                        <td id=\"T_984604e2_d528_11ea_9424_ecf4bbfabc65row11_col3\" class=\"data row11 col3\" >0.956822</td>\n",
       "                        <td id=\"T_984604e2_d528_11ea_9424_ecf4bbfabc65row11_col4\" class=\"data row11 col4\" >0.773915</td>\n",
       "                        <td id=\"T_984604e2_d528_11ea_9424_ecf4bbfabc65row11_col5\" class=\"data row11 col5\" >0.855617</td>\n",
       "                        <td id=\"T_984604e2_d528_11ea_9424_ecf4bbfabc65row11_col6\" class=\"data row11 col6\" >0.712962</td>\n",
       "                        <td id=\"T_984604e2_d528_11ea_9424_ecf4bbfabc65row11_col7\" class=\"data row11 col7\" >0.706842</td>\n",
       "                        <td id=\"T_984604e2_d528_11ea_9424_ecf4bbfabc65row11_col8\" class=\"data row11 col8\" >0.770803</td>\n",
       "                        <td id=\"T_984604e2_d528_11ea_9424_ecf4bbfabc65row11_col9\" class=\"data row11 col9\" >0.919012</td>\n",
       "                        <td id=\"T_984604e2_d528_11ea_9424_ecf4bbfabc65row11_col10\" class=\"data row11 col10\" >0.904587</td>\n",
       "                        <td id=\"T_984604e2_d528_11ea_9424_ecf4bbfabc65row11_col11\" class=\"data row11 col11\" >1.000000</td>\n",
       "            </tr>\n",
       "    </tbody></table>"
      ],
      "text/plain": [
       "<pandas.io.formats.style.Styler at 0x19a1c794700>"
      ]
     },
     "execution_count": 39,
     "metadata": {},
     "output_type": "execute_result"
    }
   ],
   "source": [
    "corr = dataset.corr()\n",
    "corr.style.background_gradient(cmap='coolwarm')"
   ]
  },
  {
   "cell_type": "markdown",
   "metadata": {},
   "source": [
    "### Comparando setores com correlações acima de 0.9"
   ]
  },
  {
   "cell_type": "code",
   "execution_count": 46,
   "metadata": {
    "scrolled": true
   },
   "outputs": [
    {
     "data": {
      "image/png": "[encoded data removed]",
      "text/plain": [
       "<Figure size 1080x576 with 1 Axes>"
      ]
     },
     "metadata": {
      "needs_background": "light"
     },
     "output_type": "display_data"
    }
   ],
   "source": [
    "plt.figure(figsize = (15,8))\n",
    "setor3, = plt.plot(dataset['periodo'], dataset['3. Tecidos, vestuário e calçados'])\n",
    "setor7, = plt.plot(dataset['periodo'], dataset['7. Equipamentos e materiais para escritório, informática e comunicação'])\n",
    "setor8, =  plt.plot(dataset['periodo'], dataset['8. Outros artigos de uso pessoal e doméstico'])\n",
    "setor9, = plt.plot(dataset['periodo'], dataset['9. Veículos, motocicletas, partes e peças'])\n",
    "plt.xlabel('Periodo')\n",
    "plt.ylabel('Indice')\n",
    "plt.title('Comparando setores com correlações acima de 0.9')\n",
    "\n",
    "plt.legend([setor3, setor7, setor8, setor9], ['3. Tecidos, vestuário e calçados','7. Equipamentos e materiais para escritório, informática e comunicação','8. Outros artigos de uso pessoal e doméstico','9. Veículos, motocicletas, partes e peças'])\n",
    "\n",
    "plt.show()"
   ]
  },
  {
   "cell_type": "markdown",
   "metadata": {},
   "source": [
    "Pela análise do grafico, verifica-se que a maior queda no indice de consumo foi do setor de Tecidos, vestuários e calçados."
   ]
  },
  {
   "cell_type": "markdown",
   "metadata": {},
   "source": [
    "### Exportando os dados para visualização e análise no Tableau"
   ]
  },
  {
   "cell_type": "code",
   "execution_count": 41,
   "metadata": {},
   "outputs": [],
   "source": [
    "dataset.to_csv(\"pmc.csv\", sep=\";\", index=False)"
   ]
  }
 ],
 "metadata": {
  "kernelspec": {
   "display_name": "Python 3",
   "language": "python",
   "name": "python3"
  },
  "language_info": {
   "codemirror_mode": {
    "name": "ipython",
    "version": 3
   },
   "file_extension": ".py",
   "mimetype": "text/x-python",
   "name": "python",
   "nbconvert_exporter": "python",
   "pygments_lexer": "ipython3",
   "version": "3.8.3"
  }
 },
 "nbformat": 4,
 "nbformat_minor": 2
}
